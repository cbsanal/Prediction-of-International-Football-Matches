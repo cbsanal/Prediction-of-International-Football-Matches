{
 "cells": [
  {
   "cell_type": "markdown",
   "metadata": {},
   "source": [
    "# Progress"
   ]
  },
  {
   "cell_type": "markdown",
   "metadata": {},
   "source": [
    "# Data Science Project"
   ]
  },
  {
   "cell_type": "code",
   "execution_count": 1,
   "metadata": {},
   "outputs": [],
   "source": [
    "# When we will apply a machine learning techniques there can be warning we just don't want to see them.\n",
    "import warnings\n",
    "warnings.filterwarnings(\"ignore\")"
   ]
  },
  {
   "cell_type": "code",
   "execution_count": 2,
   "metadata": {},
   "outputs": [],
   "source": [
    "# Import libraries for visualization and analysis\n",
    "\n",
    "import pandas as pd\n",
    "import numpy as np\n",
    "import matplotlib.pyplot as plt\n",
    "import seaborn as sns\n",
    "\n",
    "# Import libraries for Machine Learning\n",
    "from sklearn.preprocessing import LabelEncoder\n",
    "from sklearn.model_selection import train_test_split\n",
    "from sklearn.tree import DecisionTreeClassifier\n",
    "from sklearn.metrics import accuracy_score\n",
    "from sklearn.ensemble import RandomForestClassifier\n",
    "from xgboost import XGBClassifier\n",
    "from sklearn.neighbors import KNeighborsClassifier\n",
    "import lightgbm as ltb"
   ]
  },
  {
   "cell_type": "markdown",
   "metadata": {},
   "source": [
    "## First Look For Our Dataset "
   ]
  },
  {
   "cell_type": "code",
   "execution_count": 3,
   "metadata": {},
   "outputs": [
    {
     "data": {
      "text/html": [
       "<div>\n",
       "<style scoped>\n",
       "    .dataframe tbody tr th:only-of-type {\n",
       "        vertical-align: middle;\n",
       "    }\n",
       "\n",
       "    .dataframe tbody tr th {\n",
       "        vertical-align: top;\n",
       "    }\n",
       "\n",
       "    .dataframe thead th {\n",
       "        text-align: right;\n",
       "    }\n",
       "</style>\n",
       "<table border=\"1\" class=\"dataframe\">\n",
       "  <thead>\n",
       "    <tr style=\"text-align: right;\">\n",
       "      <th></th>\n",
       "      <th>date</th>\n",
       "      <th>home_team</th>\n",
       "      <th>away_team</th>\n",
       "      <th>home_score</th>\n",
       "      <th>away_score</th>\n",
       "      <th>tournament</th>\n",
       "      <th>city</th>\n",
       "      <th>country</th>\n",
       "      <th>neutral</th>\n",
       "    </tr>\n",
       "  </thead>\n",
       "  <tbody>\n",
       "    <tr>\n",
       "      <th>0</th>\n",
       "      <td>1872-11-30</td>\n",
       "      <td>Scotland</td>\n",
       "      <td>England</td>\n",
       "      <td>0</td>\n",
       "      <td>0</td>\n",
       "      <td>Friendly</td>\n",
       "      <td>Glasgow</td>\n",
       "      <td>Scotland</td>\n",
       "      <td>False</td>\n",
       "    </tr>\n",
       "    <tr>\n",
       "      <th>1</th>\n",
       "      <td>1873-03-08</td>\n",
       "      <td>England</td>\n",
       "      <td>Scotland</td>\n",
       "      <td>4</td>\n",
       "      <td>2</td>\n",
       "      <td>Friendly</td>\n",
       "      <td>London</td>\n",
       "      <td>England</td>\n",
       "      <td>False</td>\n",
       "    </tr>\n",
       "    <tr>\n",
       "      <th>2</th>\n",
       "      <td>1874-03-07</td>\n",
       "      <td>Scotland</td>\n",
       "      <td>England</td>\n",
       "      <td>2</td>\n",
       "      <td>1</td>\n",
       "      <td>Friendly</td>\n",
       "      <td>Glasgow</td>\n",
       "      <td>Scotland</td>\n",
       "      <td>False</td>\n",
       "    </tr>\n",
       "    <tr>\n",
       "      <th>3</th>\n",
       "      <td>1875-03-06</td>\n",
       "      <td>England</td>\n",
       "      <td>Scotland</td>\n",
       "      <td>2</td>\n",
       "      <td>2</td>\n",
       "      <td>Friendly</td>\n",
       "      <td>London</td>\n",
       "      <td>England</td>\n",
       "      <td>False</td>\n",
       "    </tr>\n",
       "    <tr>\n",
       "      <th>4</th>\n",
       "      <td>1876-03-04</td>\n",
       "      <td>Scotland</td>\n",
       "      <td>England</td>\n",
       "      <td>3</td>\n",
       "      <td>0</td>\n",
       "      <td>Friendly</td>\n",
       "      <td>Glasgow</td>\n",
       "      <td>Scotland</td>\n",
       "      <td>False</td>\n",
       "    </tr>\n",
       "  </tbody>\n",
       "</table>\n",
       "</div>"
      ],
      "text/plain": [
       "         date home_team away_team  home_score  away_score tournament     city  \\\n",
       "0  1872-11-30  Scotland   England           0           0   Friendly  Glasgow   \n",
       "1  1873-03-08   England  Scotland           4           2   Friendly   London   \n",
       "2  1874-03-07  Scotland   England           2           1   Friendly  Glasgow   \n",
       "3  1875-03-06   England  Scotland           2           2   Friendly   London   \n",
       "4  1876-03-04  Scotland   England           3           0   Friendly  Glasgow   \n",
       "\n",
       "    country  neutral  \n",
       "0  Scotland    False  \n",
       "1   England    False  \n",
       "2  Scotland    False  \n",
       "3   England    False  \n",
       "4  Scotland    False  "
      ]
     },
     "execution_count": 3,
     "metadata": {},
     "output_type": "execute_result"
    }
   ],
   "source": [
    "maclar = pd.read_csv('results.csv')\n",
    "maclar_cleaning_importance = maclar.copy() \n",
    "# We get a copy our first dataset before we do any modifying or cleaning process. So we will compare this dataset and the lastest dataset accuracy at the end.\n",
    "maclar.head()\n",
    "# First look to our dataset, column's names and variable types."
   ]
  },
  {
   "cell_type": "markdown",
   "metadata": {},
   "source": [
    "**Explore the Data**"
   ]
  },
  {
   "cell_type": "code",
   "execution_count": 4,
   "metadata": {},
   "outputs": [
    {
     "name": "stdout",
     "output_type": "stream",
     "text": [
      "<class 'pandas.core.frame.DataFrame'>\n",
      "RangeIndex: 41540 entries, 0 to 41539\n",
      "Data columns (total 9 columns):\n",
      "date          41540 non-null object\n",
      "home_team     41540 non-null object\n",
      "away_team     41540 non-null object\n",
      "home_score    41540 non-null int64\n",
      "away_score    41540 non-null int64\n",
      "tournament    41540 non-null object\n",
      "city          41540 non-null object\n",
      "country       41540 non-null object\n",
      "neutral       41540 non-null bool\n",
      "dtypes: bool(1), int64(2), object(6)\n",
      "memory usage: 2.6+ MB\n"
     ]
    }
   ],
   "source": [
    "maclar.info() \n",
    "# We reliase that we got 41540 rows \n",
    "# We have different type of variables in our dataset like object, bool, int etc.\n",
    "# When we try to apply Machine learning algorithms to our final dataset we will change all this variable type to integer type because\n",
    "# these algorihms good at math."
   ]
  },
  {
   "cell_type": "code",
   "execution_count": 5,
   "metadata": {},
   "outputs": [
    {
     "data": {
      "text/plain": [
       "date          0\n",
       "home_team     0\n",
       "away_team     0\n",
       "home_score    0\n",
       "away_score    0\n",
       "tournament    0\n",
       "city          0\n",
       "country       0\n",
       "neutral       0\n",
       "dtype: int64"
      ]
     },
     "execution_count": 5,
     "metadata": {},
     "output_type": "execute_result"
    }
   ],
   "source": [
    "maclar.isnull().sum()\n",
    "# We don't have any missing value in our dataset."
   ]
  },
  {
   "cell_type": "code",
   "execution_count": 6,
   "metadata": {},
   "outputs": [
    {
     "data": {
      "text/plain": [
       "(41540, 9)"
      ]
     },
     "execution_count": 6,
     "metadata": {},
     "output_type": "execute_result"
    }
   ],
   "source": [
    "maclar.shape"
   ]
  },
  {
   "cell_type": "code",
   "execution_count": 7,
   "metadata": {},
   "outputs": [
    {
     "data": {
      "text/html": [
       "<div>\n",
       "<style scoped>\n",
       "    .dataframe tbody tr th:only-of-type {\n",
       "        vertical-align: middle;\n",
       "    }\n",
       "\n",
       "    .dataframe tbody tr th {\n",
       "        vertical-align: top;\n",
       "    }\n",
       "\n",
       "    .dataframe thead th {\n",
       "        text-align: right;\n",
       "    }\n",
       "</style>\n",
       "<table border=\"1\" class=\"dataframe\">\n",
       "  <thead>\n",
       "    <tr style=\"text-align: right;\">\n",
       "      <th></th>\n",
       "      <th>count</th>\n",
       "      <th>mean</th>\n",
       "      <th>std</th>\n",
       "      <th>min</th>\n",
       "      <th>25%</th>\n",
       "      <th>50%</th>\n",
       "      <th>75%</th>\n",
       "      <th>max</th>\n",
       "    </tr>\n",
       "  </thead>\n",
       "  <tbody>\n",
       "    <tr>\n",
       "      <th>home_score</th>\n",
       "      <td>41540.0</td>\n",
       "      <td>1.745643</td>\n",
       "      <td>1.753444</td>\n",
       "      <td>0.0</td>\n",
       "      <td>1.0</td>\n",
       "      <td>1.0</td>\n",
       "      <td>2.0</td>\n",
       "      <td>31.0</td>\n",
       "    </tr>\n",
       "    <tr>\n",
       "      <th>away_score</th>\n",
       "      <td>41540.0</td>\n",
       "      <td>1.187819</td>\n",
       "      <td>1.405511</td>\n",
       "      <td>0.0</td>\n",
       "      <td>0.0</td>\n",
       "      <td>1.0</td>\n",
       "      <td>2.0</td>\n",
       "      <td>21.0</td>\n",
       "    </tr>\n",
       "  </tbody>\n",
       "</table>\n",
       "</div>"
      ],
      "text/plain": [
       "              count      mean       std  min  25%  50%  75%   max\n",
       "home_score  41540.0  1.745643  1.753444  0.0  1.0  1.0  2.0  31.0\n",
       "away_score  41540.0  1.187819  1.405511  0.0  0.0  1.0  2.0  21.0"
      ]
     },
     "execution_count": 7,
     "metadata": {},
     "output_type": "execute_result"
    }
   ],
   "source": [
    "maclar.describe().T"
   ]
  },
  {
   "cell_type": "markdown",
   "metadata": {},
   "source": [
    "**date** - Date of the match.\n",
    "\n",
    "**home_team** - Home team name.\n",
    "\n",
    "**away_team** - Away team name.\n",
    "\n",
    "**home_team_score** - Score of home team (when the match is over).\n",
    "\n",
    "**away_team_score** - Score of away team (when the match is over).\n",
    "\n",
    "**tournament** - Type of match (FIFA, Friendly etc.).\n",
    "\n",
    "**city** - City where the match was played.\n",
    "\n",
    "**country** - Country where the match was played.\n",
    "\n",
    "**neutral** - Whether the match was played at a neutral venue or not.\n"
   ]
  },
  {
   "cell_type": "markdown",
   "metadata": {},
   "source": [
    "## Making new variables"
   ]
  },
  {
   "cell_type": "markdown",
   "metadata": {},
   "source": [
    "We think that before do visualization or analysis we need to create new columns. We will create 5 new columns these are day, \n",
    "mouth, year, who_win, total_goal. Month can be effective while we looking up the total goal statistic. If it is winter there can be less goal or how effective is the weather?\n",
    "Year also can be important because teams can have different performans in different year.\n",
    "\n",
    "**day** - Day of the match.\n",
    "\n",
    "**month** - Month of match.\n",
    "\n",
    "**year** - Year of match.\n",
    "\n",
    "**who_win** - Which team win the match.\n",
    "\n",
    "**total_goal** - Total goal score."
   ]
  },
  {
   "cell_type": "code",
   "execution_count": 8,
   "metadata": {},
   "outputs": [
    {
     "data": {
      "text/html": [
       "<div>\n",
       "<style scoped>\n",
       "    .dataframe tbody tr th:only-of-type {\n",
       "        vertical-align: middle;\n",
       "    }\n",
       "\n",
       "    .dataframe tbody tr th {\n",
       "        vertical-align: top;\n",
       "    }\n",
       "\n",
       "    .dataframe thead th {\n",
       "        text-align: right;\n",
       "    }\n",
       "</style>\n",
       "<table border=\"1\" class=\"dataframe\">\n",
       "  <thead>\n",
       "    <tr style=\"text-align: right;\">\n",
       "      <th></th>\n",
       "      <th>date</th>\n",
       "      <th>home_team</th>\n",
       "      <th>away_team</th>\n",
       "      <th>home_score</th>\n",
       "      <th>away_score</th>\n",
       "      <th>tournament</th>\n",
       "      <th>city</th>\n",
       "      <th>country</th>\n",
       "      <th>neutral</th>\n",
       "      <th>year</th>\n",
       "      <th>month</th>\n",
       "      <th>day</th>\n",
       "    </tr>\n",
       "  </thead>\n",
       "  <tbody>\n",
       "    <tr>\n",
       "      <th>0</th>\n",
       "      <td>1872-11-30</td>\n",
       "      <td>Scotland</td>\n",
       "      <td>England</td>\n",
       "      <td>0</td>\n",
       "      <td>0</td>\n",
       "      <td>Friendly</td>\n",
       "      <td>Glasgow</td>\n",
       "      <td>Scotland</td>\n",
       "      <td>False</td>\n",
       "      <td>1872</td>\n",
       "      <td>11</td>\n",
       "      <td>30</td>\n",
       "    </tr>\n",
       "    <tr>\n",
       "      <th>1</th>\n",
       "      <td>1873-03-08</td>\n",
       "      <td>England</td>\n",
       "      <td>Scotland</td>\n",
       "      <td>4</td>\n",
       "      <td>2</td>\n",
       "      <td>Friendly</td>\n",
       "      <td>London</td>\n",
       "      <td>England</td>\n",
       "      <td>False</td>\n",
       "      <td>1873</td>\n",
       "      <td>03</td>\n",
       "      <td>08</td>\n",
       "    </tr>\n",
       "    <tr>\n",
       "      <th>2</th>\n",
       "      <td>1874-03-07</td>\n",
       "      <td>Scotland</td>\n",
       "      <td>England</td>\n",
       "      <td>2</td>\n",
       "      <td>1</td>\n",
       "      <td>Friendly</td>\n",
       "      <td>Glasgow</td>\n",
       "      <td>Scotland</td>\n",
       "      <td>False</td>\n",
       "      <td>1874</td>\n",
       "      <td>03</td>\n",
       "      <td>07</td>\n",
       "    </tr>\n",
       "    <tr>\n",
       "      <th>3</th>\n",
       "      <td>1875-03-06</td>\n",
       "      <td>England</td>\n",
       "      <td>Scotland</td>\n",
       "      <td>2</td>\n",
       "      <td>2</td>\n",
       "      <td>Friendly</td>\n",
       "      <td>London</td>\n",
       "      <td>England</td>\n",
       "      <td>False</td>\n",
       "      <td>1875</td>\n",
       "      <td>03</td>\n",
       "      <td>06</td>\n",
       "    </tr>\n",
       "    <tr>\n",
       "      <th>4</th>\n",
       "      <td>1876-03-04</td>\n",
       "      <td>Scotland</td>\n",
       "      <td>England</td>\n",
       "      <td>3</td>\n",
       "      <td>0</td>\n",
       "      <td>Friendly</td>\n",
       "      <td>Glasgow</td>\n",
       "      <td>Scotland</td>\n",
       "      <td>False</td>\n",
       "      <td>1876</td>\n",
       "      <td>03</td>\n",
       "      <td>04</td>\n",
       "    </tr>\n",
       "  </tbody>\n",
       "</table>\n",
       "</div>"
      ],
      "text/plain": [
       "         date home_team away_team  home_score  away_score tournament     city  \\\n",
       "0  1872-11-30  Scotland   England           0           0   Friendly  Glasgow   \n",
       "1  1873-03-08   England  Scotland           4           2   Friendly   London   \n",
       "2  1874-03-07  Scotland   England           2           1   Friendly  Glasgow   \n",
       "3  1875-03-06   England  Scotland           2           2   Friendly   London   \n",
       "4  1876-03-04  Scotland   England           3           0   Friendly  Glasgow   \n",
       "\n",
       "    country  neutral  year month day  \n",
       "0  Scotland    False  1872    11  30  \n",
       "1   England    False  1873    03  08  \n",
       "2  Scotland    False  1874    03  07  \n",
       "3   England    False  1875    03  06  \n",
       "4  Scotland    False  1876    03  04  "
      ]
     },
     "execution_count": 8,
     "metadata": {},
     "output_type": "execute_result"
    }
   ],
   "source": [
    "maclar['year'] = maclar.date.str.split('-').str[0]\n",
    "maclar['month'] = maclar.date.str.split('-').str[1]\n",
    "maclar['day'] = maclar.date.str.split('-').str[2]\n",
    "maclar.head()"
   ]
  },
  {
   "cell_type": "code",
   "execution_count": 9,
   "metadata": {},
   "outputs": [
    {
     "data": {
      "text/html": [
       "<div>\n",
       "<style scoped>\n",
       "    .dataframe tbody tr th:only-of-type {\n",
       "        vertical-align: middle;\n",
       "    }\n",
       "\n",
       "    .dataframe tbody tr th {\n",
       "        vertical-align: top;\n",
       "    }\n",
       "\n",
       "    .dataframe thead th {\n",
       "        text-align: right;\n",
       "    }\n",
       "</style>\n",
       "<table border=\"1\" class=\"dataframe\">\n",
       "  <thead>\n",
       "    <tr style=\"text-align: right;\">\n",
       "      <th></th>\n",
       "      <th>date</th>\n",
       "      <th>home_team</th>\n",
       "      <th>away_team</th>\n",
       "      <th>home_score</th>\n",
       "      <th>away_score</th>\n",
       "      <th>tournament</th>\n",
       "      <th>city</th>\n",
       "      <th>country</th>\n",
       "      <th>neutral</th>\n",
       "      <th>year</th>\n",
       "      <th>month</th>\n",
       "      <th>day</th>\n",
       "      <th>total_goal</th>\n",
       "      <th>who_win</th>\n",
       "    </tr>\n",
       "  </thead>\n",
       "  <tbody>\n",
       "    <tr>\n",
       "      <th>0</th>\n",
       "      <td>1872-11-30</td>\n",
       "      <td>Scotland</td>\n",
       "      <td>England</td>\n",
       "      <td>0</td>\n",
       "      <td>0</td>\n",
       "      <td>Friendly</td>\n",
       "      <td>Glasgow</td>\n",
       "      <td>Scotland</td>\n",
       "      <td>False</td>\n",
       "      <td>1872</td>\n",
       "      <td>11</td>\n",
       "      <td>30</td>\n",
       "      <td>0</td>\n",
       "      <td>0</td>\n",
       "    </tr>\n",
       "    <tr>\n",
       "      <th>1</th>\n",
       "      <td>1873-03-08</td>\n",
       "      <td>England</td>\n",
       "      <td>Scotland</td>\n",
       "      <td>4</td>\n",
       "      <td>2</td>\n",
       "      <td>Friendly</td>\n",
       "      <td>London</td>\n",
       "      <td>England</td>\n",
       "      <td>False</td>\n",
       "      <td>1873</td>\n",
       "      <td>03</td>\n",
       "      <td>08</td>\n",
       "      <td>6</td>\n",
       "      <td>1</td>\n",
       "    </tr>\n",
       "    <tr>\n",
       "      <th>2</th>\n",
       "      <td>1874-03-07</td>\n",
       "      <td>Scotland</td>\n",
       "      <td>England</td>\n",
       "      <td>2</td>\n",
       "      <td>1</td>\n",
       "      <td>Friendly</td>\n",
       "      <td>Glasgow</td>\n",
       "      <td>Scotland</td>\n",
       "      <td>False</td>\n",
       "      <td>1874</td>\n",
       "      <td>03</td>\n",
       "      <td>07</td>\n",
       "      <td>3</td>\n",
       "      <td>1</td>\n",
       "    </tr>\n",
       "    <tr>\n",
       "      <th>3</th>\n",
       "      <td>1875-03-06</td>\n",
       "      <td>England</td>\n",
       "      <td>Scotland</td>\n",
       "      <td>2</td>\n",
       "      <td>2</td>\n",
       "      <td>Friendly</td>\n",
       "      <td>London</td>\n",
       "      <td>England</td>\n",
       "      <td>False</td>\n",
       "      <td>1875</td>\n",
       "      <td>03</td>\n",
       "      <td>06</td>\n",
       "      <td>4</td>\n",
       "      <td>0</td>\n",
       "    </tr>\n",
       "    <tr>\n",
       "      <th>4</th>\n",
       "      <td>1876-03-04</td>\n",
       "      <td>Scotland</td>\n",
       "      <td>England</td>\n",
       "      <td>3</td>\n",
       "      <td>0</td>\n",
       "      <td>Friendly</td>\n",
       "      <td>Glasgow</td>\n",
       "      <td>Scotland</td>\n",
       "      <td>False</td>\n",
       "      <td>1876</td>\n",
       "      <td>03</td>\n",
       "      <td>04</td>\n",
       "      <td>3</td>\n",
       "      <td>1</td>\n",
       "    </tr>\n",
       "    <tr>\n",
       "      <th>5</th>\n",
       "      <td>1876-03-25</td>\n",
       "      <td>Scotland</td>\n",
       "      <td>Wales</td>\n",
       "      <td>4</td>\n",
       "      <td>0</td>\n",
       "      <td>Friendly</td>\n",
       "      <td>Glasgow</td>\n",
       "      <td>Scotland</td>\n",
       "      <td>False</td>\n",
       "      <td>1876</td>\n",
       "      <td>03</td>\n",
       "      <td>25</td>\n",
       "      <td>4</td>\n",
       "      <td>1</td>\n",
       "    </tr>\n",
       "    <tr>\n",
       "      <th>6</th>\n",
       "      <td>1877-03-03</td>\n",
       "      <td>England</td>\n",
       "      <td>Scotland</td>\n",
       "      <td>1</td>\n",
       "      <td>3</td>\n",
       "      <td>Friendly</td>\n",
       "      <td>London</td>\n",
       "      <td>England</td>\n",
       "      <td>False</td>\n",
       "      <td>1877</td>\n",
       "      <td>03</td>\n",
       "      <td>03</td>\n",
       "      <td>4</td>\n",
       "      <td>2</td>\n",
       "    </tr>\n",
       "    <tr>\n",
       "      <th>7</th>\n",
       "      <td>1877-03-05</td>\n",
       "      <td>Wales</td>\n",
       "      <td>Scotland</td>\n",
       "      <td>0</td>\n",
       "      <td>2</td>\n",
       "      <td>Friendly</td>\n",
       "      <td>Wrexham</td>\n",
       "      <td>Wales</td>\n",
       "      <td>False</td>\n",
       "      <td>1877</td>\n",
       "      <td>03</td>\n",
       "      <td>05</td>\n",
       "      <td>2</td>\n",
       "      <td>2</td>\n",
       "    </tr>\n",
       "    <tr>\n",
       "      <th>8</th>\n",
       "      <td>1878-03-02</td>\n",
       "      <td>Scotland</td>\n",
       "      <td>England</td>\n",
       "      <td>7</td>\n",
       "      <td>2</td>\n",
       "      <td>Friendly</td>\n",
       "      <td>Glasgow</td>\n",
       "      <td>Scotland</td>\n",
       "      <td>False</td>\n",
       "      <td>1878</td>\n",
       "      <td>03</td>\n",
       "      <td>02</td>\n",
       "      <td>9</td>\n",
       "      <td>1</td>\n",
       "    </tr>\n",
       "    <tr>\n",
       "      <th>9</th>\n",
       "      <td>1878-03-23</td>\n",
       "      <td>Scotland</td>\n",
       "      <td>Wales</td>\n",
       "      <td>9</td>\n",
       "      <td>0</td>\n",
       "      <td>Friendly</td>\n",
       "      <td>Glasgow</td>\n",
       "      <td>Scotland</td>\n",
       "      <td>False</td>\n",
       "      <td>1878</td>\n",
       "      <td>03</td>\n",
       "      <td>23</td>\n",
       "      <td>9</td>\n",
       "      <td>1</td>\n",
       "    </tr>\n",
       "  </tbody>\n",
       "</table>\n",
       "</div>"
      ],
      "text/plain": [
       "         date home_team away_team  home_score  away_score tournament     city  \\\n",
       "0  1872-11-30  Scotland   England           0           0   Friendly  Glasgow   \n",
       "1  1873-03-08   England  Scotland           4           2   Friendly   London   \n",
       "2  1874-03-07  Scotland   England           2           1   Friendly  Glasgow   \n",
       "3  1875-03-06   England  Scotland           2           2   Friendly   London   \n",
       "4  1876-03-04  Scotland   England           3           0   Friendly  Glasgow   \n",
       "5  1876-03-25  Scotland     Wales           4           0   Friendly  Glasgow   \n",
       "6  1877-03-03   England  Scotland           1           3   Friendly   London   \n",
       "7  1877-03-05     Wales  Scotland           0           2   Friendly  Wrexham   \n",
       "8  1878-03-02  Scotland   England           7           2   Friendly  Glasgow   \n",
       "9  1878-03-23  Scotland     Wales           9           0   Friendly  Glasgow   \n",
       "\n",
       "    country  neutral  year month day  total_goal who_win  \n",
       "0  Scotland    False  1872    11  30           0       0  \n",
       "1   England    False  1873    03  08           6       1  \n",
       "2  Scotland    False  1874    03  07           3       1  \n",
       "3   England    False  1875    03  06           4       0  \n",
       "4  Scotland    False  1876    03  04           3       1  \n",
       "5  Scotland    False  1876    03  25           4       1  \n",
       "6   England    False  1877    03  03           4       2  \n",
       "7     Wales    False  1877    03  05           2       2  \n",
       "8  Scotland    False  1878    03  02           9       1  \n",
       "9  Scotland    False  1878    03  23           9       1  "
      ]
     },
     "execution_count": 9,
     "metadata": {},
     "output_type": "execute_result"
    }
   ],
   "source": [
    "maclar['total_goal'] = maclar.home_score + maclar.away_score\n",
    "maclar['who_win'] = np.where((maclar.home_score > maclar.away_score), '1',\n",
    "                            np.where(maclar.home_score < maclar.away_score, '2','0'))\n",
    "maclar.head(10) \n",
    "# 1 means that home team won\n",
    "# 2 means that away team won\n",
    "# 0 means that draw"
   ]
  },
  {
   "cell_type": "code",
   "execution_count": 10,
   "metadata": {},
   "outputs": [
    {
     "data": {
      "text/html": [
       "<div>\n",
       "<style scoped>\n",
       "    .dataframe tbody tr th:only-of-type {\n",
       "        vertical-align: middle;\n",
       "    }\n",
       "\n",
       "    .dataframe tbody tr th {\n",
       "        vertical-align: top;\n",
       "    }\n",
       "\n",
       "    .dataframe thead th {\n",
       "        text-align: right;\n",
       "    }\n",
       "</style>\n",
       "<table border=\"1\" class=\"dataframe\">\n",
       "  <thead>\n",
       "    <tr style=\"text-align: right;\">\n",
       "      <th></th>\n",
       "      <th>home_team</th>\n",
       "      <th>away_team</th>\n",
       "      <th>tournament</th>\n",
       "      <th>city</th>\n",
       "      <th>country</th>\n",
       "      <th>neutral</th>\n",
       "      <th>year</th>\n",
       "      <th>month</th>\n",
       "      <th>day</th>\n",
       "      <th>total_goal</th>\n",
       "      <th>who_win</th>\n",
       "    </tr>\n",
       "  </thead>\n",
       "  <tbody>\n",
       "    <tr>\n",
       "      <th>0</th>\n",
       "      <td>Scotland</td>\n",
       "      <td>England</td>\n",
       "      <td>Friendly</td>\n",
       "      <td>Glasgow</td>\n",
       "      <td>Scotland</td>\n",
       "      <td>False</td>\n",
       "      <td>1872</td>\n",
       "      <td>11</td>\n",
       "      <td>30</td>\n",
       "      <td>0</td>\n",
       "      <td>0</td>\n",
       "    </tr>\n",
       "    <tr>\n",
       "      <th>1</th>\n",
       "      <td>England</td>\n",
       "      <td>Scotland</td>\n",
       "      <td>Friendly</td>\n",
       "      <td>London</td>\n",
       "      <td>England</td>\n",
       "      <td>False</td>\n",
       "      <td>1873</td>\n",
       "      <td>03</td>\n",
       "      <td>08</td>\n",
       "      <td>6</td>\n",
       "      <td>1</td>\n",
       "    </tr>\n",
       "    <tr>\n",
       "      <th>2</th>\n",
       "      <td>Scotland</td>\n",
       "      <td>England</td>\n",
       "      <td>Friendly</td>\n",
       "      <td>Glasgow</td>\n",
       "      <td>Scotland</td>\n",
       "      <td>False</td>\n",
       "      <td>1874</td>\n",
       "      <td>03</td>\n",
       "      <td>07</td>\n",
       "      <td>3</td>\n",
       "      <td>1</td>\n",
       "    </tr>\n",
       "    <tr>\n",
       "      <th>3</th>\n",
       "      <td>England</td>\n",
       "      <td>Scotland</td>\n",
       "      <td>Friendly</td>\n",
       "      <td>London</td>\n",
       "      <td>England</td>\n",
       "      <td>False</td>\n",
       "      <td>1875</td>\n",
       "      <td>03</td>\n",
       "      <td>06</td>\n",
       "      <td>4</td>\n",
       "      <td>0</td>\n",
       "    </tr>\n",
       "    <tr>\n",
       "      <th>4</th>\n",
       "      <td>Scotland</td>\n",
       "      <td>England</td>\n",
       "      <td>Friendly</td>\n",
       "      <td>Glasgow</td>\n",
       "      <td>Scotland</td>\n",
       "      <td>False</td>\n",
       "      <td>1876</td>\n",
       "      <td>03</td>\n",
       "      <td>04</td>\n",
       "      <td>3</td>\n",
       "      <td>1</td>\n",
       "    </tr>\n",
       "  </tbody>\n",
       "</table>\n",
       "</div>"
      ],
      "text/plain": [
       "  home_team away_team tournament     city   country  neutral  year month day  \\\n",
       "0  Scotland   England   Friendly  Glasgow  Scotland    False  1872    11  30   \n",
       "1   England  Scotland   Friendly   London   England    False  1873    03  08   \n",
       "2  Scotland   England   Friendly  Glasgow  Scotland    False  1874    03  07   \n",
       "3   England  Scotland   Friendly   London   England    False  1875    03  06   \n",
       "4  Scotland   England   Friendly  Glasgow  Scotland    False  1876    03  04   \n",
       "\n",
       "   total_goal who_win  \n",
       "0           0       0  \n",
       "1           6       1  \n",
       "2           3       1  \n",
       "3           4       0  \n",
       "4           3       1  "
      ]
     },
     "execution_count": 10,
     "metadata": {},
     "output_type": "execute_result"
    }
   ],
   "source": [
    "# Now we can drop to date-home_score-away_score because we got what we want\n",
    "maclar = maclar.drop('date', axis = 1)\n",
    "maclar = maclar.drop('home_score', axis = 1)\n",
    "maclar = maclar.drop('away_score', axis = 1)\n",
    "maclar.head()"
   ]
  },
  {
   "cell_type": "code",
   "execution_count": 11,
   "metadata": {},
   "outputs": [
    {
     "data": {
      "text/html": [
       "<div>\n",
       "<style scoped>\n",
       "    .dataframe tbody tr th:only-of-type {\n",
       "        vertical-align: middle;\n",
       "    }\n",
       "\n",
       "    .dataframe tbody tr th {\n",
       "        vertical-align: top;\n",
       "    }\n",
       "\n",
       "    .dataframe thead th {\n",
       "        text-align: right;\n",
       "    }\n",
       "</style>\n",
       "<table border=\"1\" class=\"dataframe\">\n",
       "  <thead>\n",
       "    <tr style=\"text-align: right;\">\n",
       "      <th></th>\n",
       "      <th>home_team</th>\n",
       "      <th>away_team</th>\n",
       "      <th>tournament</th>\n",
       "      <th>city</th>\n",
       "      <th>country</th>\n",
       "      <th>neutral</th>\n",
       "      <th>year</th>\n",
       "      <th>day</th>\n",
       "      <th>total_goal</th>\n",
       "      <th>who_win</th>\n",
       "      <th>season</th>\n",
       "    </tr>\n",
       "  </thead>\n",
       "  <tbody>\n",
       "    <tr>\n",
       "      <th>0</th>\n",
       "      <td>Scotland</td>\n",
       "      <td>England</td>\n",
       "      <td>Friendly</td>\n",
       "      <td>Glasgow</td>\n",
       "      <td>Scotland</td>\n",
       "      <td>False</td>\n",
       "      <td>1872</td>\n",
       "      <td>30</td>\n",
       "      <td>0</td>\n",
       "      <td>0</td>\n",
       "      <td>Fall</td>\n",
       "    </tr>\n",
       "    <tr>\n",
       "      <th>1</th>\n",
       "      <td>England</td>\n",
       "      <td>Scotland</td>\n",
       "      <td>Friendly</td>\n",
       "      <td>London</td>\n",
       "      <td>England</td>\n",
       "      <td>False</td>\n",
       "      <td>1873</td>\n",
       "      <td>08</td>\n",
       "      <td>6</td>\n",
       "      <td>1</td>\n",
       "      <td>Spring</td>\n",
       "    </tr>\n",
       "    <tr>\n",
       "      <th>2</th>\n",
       "      <td>Scotland</td>\n",
       "      <td>England</td>\n",
       "      <td>Friendly</td>\n",
       "      <td>Glasgow</td>\n",
       "      <td>Scotland</td>\n",
       "      <td>False</td>\n",
       "      <td>1874</td>\n",
       "      <td>07</td>\n",
       "      <td>3</td>\n",
       "      <td>1</td>\n",
       "      <td>Spring</td>\n",
       "    </tr>\n",
       "    <tr>\n",
       "      <th>3</th>\n",
       "      <td>England</td>\n",
       "      <td>Scotland</td>\n",
       "      <td>Friendly</td>\n",
       "      <td>London</td>\n",
       "      <td>England</td>\n",
       "      <td>False</td>\n",
       "      <td>1875</td>\n",
       "      <td>06</td>\n",
       "      <td>4</td>\n",
       "      <td>0</td>\n",
       "      <td>Spring</td>\n",
       "    </tr>\n",
       "    <tr>\n",
       "      <th>4</th>\n",
       "      <td>Scotland</td>\n",
       "      <td>England</td>\n",
       "      <td>Friendly</td>\n",
       "      <td>Glasgow</td>\n",
       "      <td>Scotland</td>\n",
       "      <td>False</td>\n",
       "      <td>1876</td>\n",
       "      <td>04</td>\n",
       "      <td>3</td>\n",
       "      <td>1</td>\n",
       "      <td>Spring</td>\n",
       "    </tr>\n",
       "  </tbody>\n",
       "</table>\n",
       "</div>"
      ],
      "text/plain": [
       "  home_team away_team tournament     city   country  neutral  year day  \\\n",
       "0  Scotland   England   Friendly  Glasgow  Scotland    False  1872  30   \n",
       "1   England  Scotland   Friendly   London   England    False  1873  08   \n",
       "2  Scotland   England   Friendly  Glasgow  Scotland    False  1874  07   \n",
       "3   England  Scotland   Friendly   London   England    False  1875  06   \n",
       "4  Scotland   England   Friendly  Glasgow  Scotland    False  1876  04   \n",
       "\n",
       "   total_goal who_win  season  \n",
       "0           0       0    Fall  \n",
       "1           6       1  Spring  \n",
       "2           3       1  Spring  \n",
       "3           4       0  Spring  \n",
       "4           3       1  Spring  "
      ]
     },
     "execution_count": 11,
     "metadata": {},
     "output_type": "execute_result"
    }
   ],
   "source": [
    "# If we check the month type, it is integer.\n",
    "# We need to change it to the season (summer, winter etc.).\n",
    "maclar.month = maclar.month.astype(str)\n",
    "maclar['season'] = np.where((maclar.month == '12') | (maclar.month == '01') | (maclar.month == '02'), 'Winter',\n",
    "                           np.where((maclar.month == '03') | (maclar.month == '04') | (maclar.month == '05'), 'Spring',\n",
    "                                    np.where((maclar.month == '06') | (maclar.month =='07') | (maclar.month == '08') , 'Summer',\n",
    "                                            'Fall')))\n",
    "maclar.drop('month' , axis = 1, inplace = True)\n",
    "maclar.head()"
   ]
  },
  {
   "cell_type": "code",
   "execution_count": 12,
   "metadata": {},
   "outputs": [],
   "source": [
    "# We already have the country so we can drop the city.\n",
    "maclar = maclar.drop('city', axis = 1)\n",
    "maclar = maclar.drop('day', axis = 1)"
   ]
  },
  {
   "cell_type": "markdown",
   "metadata": {},
   "source": [
    "## Analysis and Visualization"
   ]
  },
  {
   "cell_type": "code",
   "execution_count": 13,
   "metadata": {},
   "outputs": [
    {
     "name": "stdout",
     "output_type": "stream",
     "text": [
      "Total team number:  309\n",
      "Total tournament:  112\n"
     ]
    }
   ],
   "source": [
    "total_team = len(maclar.home_team.value_counts().index)\n",
    "total_tournament = len(maclar.tournament.value_counts().index)\n",
    "print(\"Total team number: \", total_team)\n",
    "print(\"Total tournament: \", total_tournament)"
   ]
  },
  {
   "cell_type": "code",
   "execution_count": 14,
   "metadata": {},
   "outputs": [],
   "source": [
    "# We got over 300 teams and over 100 tournament"
   ]
  },
  {
   "cell_type": "code",
   "execution_count": 15,
   "metadata": {},
   "outputs": [
    {
     "data": {
      "text/plain": [
       "<matplotlib.axes._subplots.AxesSubplot at 0x204de13fdd8>"
      ]
     },
     "execution_count": 15,
     "metadata": {},
     "output_type": "execute_result"
    },
    {
     "data": {
      "image/png": "[encoded data removed]",
      "text/plain": [
       "<Figure size 360x360 with 1 Axes>"
      ]
     },
     "metadata": {},
     "output_type": "display_data"
    }
   ],
   "source": [
    "maclar['who_win'].value_counts().plot(kind = 'pie', autopct = '%1.1f%%',figsize = (5,5))"
   ]
  },
  {
   "cell_type": "code",
   "execution_count": 16,
   "metadata": {},
   "outputs": [
    {
     "data": {
      "text/plain": [
       "(10987, 9)"
      ]
     },
     "execution_count": 16,
     "metadata": {},
     "output_type": "execute_result"
    }
   ],
   "source": [
    "# Looks like being a home team is a huge advantage but it can be even more advantage than we see. \n",
    "# We know that being a home team means that match is playing in your country but there are some matches in our dataset which\n",
    "# looks like a team a home team but there are not.\n",
    "maclar[maclar.home_team != maclar.country].shape "
   ]
  },
  {
   "cell_type": "code",
   "execution_count": 17,
   "metadata": {},
   "outputs": [
    {
     "name": "stdout",
     "output_type": "stream",
     "text": [
      "<class 'pandas.core.frame.DataFrame'>\n",
      "Int64Index: 30553 entries, 0 to 41539\n",
      "Data columns (total 9 columns):\n",
      "home_team     30553 non-null object\n",
      "away_team     30553 non-null object\n",
      "tournament    30553 non-null object\n",
      "country       30553 non-null object\n",
      "neutral       30553 non-null bool\n",
      "year          30553 non-null object\n",
      "total_goal    30553 non-null int64\n",
      "who_win       30553 non-null object\n",
      "season        30553 non-null object\n",
      "dtypes: bool(1), int64(1), object(7)\n",
      "memory usage: 2.1+ MB\n"
     ]
    }
   ],
   "source": [
    "# There are over 10k teams which is not home team but it looks like it so we drop them to see the real effect of being a home team\n",
    "maclar = maclar.drop(maclar[maclar.home_team != maclar.country].index)\n",
    "maclar.info()"
   ]
  },
  {
   "cell_type": "code",
   "execution_count": 18,
   "metadata": {},
   "outputs": [
    {
     "data": {
      "text/plain": [
       "<matplotlib.axes._subplots.AxesSubplot at 0x204de10aac8>"
      ]
     },
     "execution_count": 18,
     "metadata": {},
     "output_type": "execute_result"
    },
    {
     "data": {
      "image/png": "[encoded data removed]",
      "text/plain": [
       "<Figure size 360x360 with 1 Axes>"
      ]
     },
     "metadata": {},
     "output_type": "display_data"
    }
   ],
   "source": [
    "# Now we got 30553 total rows let's see the real effect of being home_team\n",
    "maclar['who_win'].value_counts().plot(kind = 'pie', autopct = '%1.1f%%',figsize = (5,5))\n",
    "# As we said earlier:\n",
    "# 1 means that home team won\n",
    "# 2 means that away team won\n",
    "# 0 means that draw"
   ]
  },
  {
   "cell_type": "code",
   "execution_count": 19,
   "metadata": {},
   "outputs": [
    {
     "data": {
      "text/plain": [
       "(8,)"
      ]
     },
     "execution_count": 19,
     "metadata": {},
     "output_type": "execute_result"
    }
   ],
   "source": [
    "# Being a home team is a huge advantage so when we realise these we figure out country column is very important because it is relate to home team\n",
    "maclar.neutral[maclar.neutral == True].shape"
   ]
  },
  {
   "cell_type": "code",
   "execution_count": 20,
   "metadata": {},
   "outputs": [
    {
     "data": {
      "text/html": [
       "<div>\n",
       "<style scoped>\n",
       "    .dataframe tbody tr th:only-of-type {\n",
       "        vertical-align: middle;\n",
       "    }\n",
       "\n",
       "    .dataframe tbody tr th {\n",
       "        vertical-align: top;\n",
       "    }\n",
       "\n",
       "    .dataframe thead th {\n",
       "        text-align: right;\n",
       "    }\n",
       "</style>\n",
       "<table border=\"1\" class=\"dataframe\">\n",
       "  <thead>\n",
       "    <tr style=\"text-align: right;\">\n",
       "      <th></th>\n",
       "      <th>home_team</th>\n",
       "      <th>away_team</th>\n",
       "      <th>tournament</th>\n",
       "      <th>country</th>\n",
       "      <th>year</th>\n",
       "      <th>total_goal</th>\n",
       "      <th>who_win</th>\n",
       "      <th>season</th>\n",
       "    </tr>\n",
       "  </thead>\n",
       "  <tbody>\n",
       "    <tr>\n",
       "      <th>0</th>\n",
       "      <td>Scotland</td>\n",
       "      <td>England</td>\n",
       "      <td>Friendly</td>\n",
       "      <td>Scotland</td>\n",
       "      <td>1872</td>\n",
       "      <td>0</td>\n",
       "      <td>0</td>\n",
       "      <td>Fall</td>\n",
       "    </tr>\n",
       "    <tr>\n",
       "      <th>1</th>\n",
       "      <td>England</td>\n",
       "      <td>Scotland</td>\n",
       "      <td>Friendly</td>\n",
       "      <td>England</td>\n",
       "      <td>1873</td>\n",
       "      <td>6</td>\n",
       "      <td>1</td>\n",
       "      <td>Spring</td>\n",
       "    </tr>\n",
       "    <tr>\n",
       "      <th>2</th>\n",
       "      <td>Scotland</td>\n",
       "      <td>England</td>\n",
       "      <td>Friendly</td>\n",
       "      <td>Scotland</td>\n",
       "      <td>1874</td>\n",
       "      <td>3</td>\n",
       "      <td>1</td>\n",
       "      <td>Spring</td>\n",
       "    </tr>\n",
       "    <tr>\n",
       "      <th>3</th>\n",
       "      <td>England</td>\n",
       "      <td>Scotland</td>\n",
       "      <td>Friendly</td>\n",
       "      <td>England</td>\n",
       "      <td>1875</td>\n",
       "      <td>4</td>\n",
       "      <td>0</td>\n",
       "      <td>Spring</td>\n",
       "    </tr>\n",
       "    <tr>\n",
       "      <th>4</th>\n",
       "      <td>Scotland</td>\n",
       "      <td>England</td>\n",
       "      <td>Friendly</td>\n",
       "      <td>Scotland</td>\n",
       "      <td>1876</td>\n",
       "      <td>3</td>\n",
       "      <td>1</td>\n",
       "      <td>Spring</td>\n",
       "    </tr>\n",
       "  </tbody>\n",
       "</table>\n",
       "</div>"
      ],
      "text/plain": [
       "  home_team away_team tournament   country  year  total_goal who_win  season\n",
       "0  Scotland   England   Friendly  Scotland  1872           0       0    Fall\n",
       "1   England  Scotland   Friendly   England  1873           6       1  Spring\n",
       "2  Scotland   England   Friendly  Scotland  1874           3       1  Spring\n",
       "3   England  Scotland   Friendly   England  1875           4       0  Spring\n",
       "4  Scotland   England   Friendly  Scotland  1876           3       1  Spring"
      ]
     },
     "execution_count": 20,
     "metadata": {},
     "output_type": "execute_result"
    }
   ],
   "source": [
    "# When we drop that 10k rows, neutral column become meanless because there are only 8 rows which neutral = True so we drop neutral column\n",
    "maclar = maclar.drop('neutral', axis = 1)\n",
    "maclar.head()"
   ]
  },
  {
   "cell_type": "code",
   "execution_count": 21,
   "metadata": {},
   "outputs": [
    {
     "data": {
      "image/png": "[encoded data removed]",
      "text/plain": [
       "<Figure size 1440x360 with 1 Axes>"
      ]
     },
     "metadata": {
      "needs_background": "light"
     },
     "output_type": "display_data"
    }
   ],
   "source": [
    "plt.figure(figsize = (20,5))\n",
    "sns.barplot(x = 'season', y = 'total_goal' , data = maclar);"
   ]
  },
  {
   "cell_type": "code",
   "execution_count": 22,
   "metadata": {},
   "outputs": [
    {
     "name": "stdout",
     "output_type": "stream",
     "text": [
      "Average total goal in Winter:  2.7642220699108977\n",
      "Average total goal in Spring:  2.8715112540192926\n",
      "Average total goal in Summer:  2.9109672197490895\n",
      "Average total goal in Fall:  2.9143611212231524\n"
     ]
    }
   ],
   "source": [
    "ort_total_goal = maclar.total_goal[maclar.season == \"Winter\"].mean()\n",
    "ort_total_goal2 = maclar.total_goal[maclar.season == \"Spring\"].mean()\n",
    "ort_total_goal3 = maclar.total_goal[maclar.season == \"Summer\"].mean()\n",
    "ort_total_goal4 = maclar.total_goal[maclar.season == \"Fall\"].mean()\n",
    "print(\"Average total goal in Winter: \", ort_total_goal)\n",
    "print(\"Average total goal in Spring: \", ort_total_goal2)\n",
    "print(\"Average total goal in Summer: \", ort_total_goal3)\n",
    "print(\"Average total goal in Fall: \", ort_total_goal4)"
   ]
  },
  {
   "cell_type": "code",
   "execution_count": 23,
   "metadata": {},
   "outputs": [
    {
     "data": {
      "text/plain": [
       "Sweden     449\n",
       "England    446\n",
       "France     432\n",
       "Hungary    421\n",
       "Germany    415\n",
       "Name: home_team, dtype: int64"
      ]
     },
     "execution_count": 23,
     "metadata": {},
     "output_type": "execute_result"
    }
   ],
   "source": [
    "# Before continue to changing all value to a integer value, we think that type of tournament can be more important than we think. Because\n",
    "# for example if it is a friendly match teams can try new thing such as offensive football or defensive footbal. In short they can try new tactics and that can effect their\n",
    "# match results. To prove that we will test some certain teams\n",
    "maclar.home_team.value_counts().head()\n",
    "#Looks like Sweden, England, France etc. are good team to try our test because they have the most data"
   ]
  },
  {
   "cell_type": "code",
   "execution_count": 24,
   "metadata": {},
   "outputs": [
    {
     "data": {
      "text/plain": [
       "Germany          290\n",
       "France           288\n",
       "Hungary          267\n",
       "Austria          245\n",
       "Sweden           245\n",
       "Belgium          239\n",
       "Switzerland      236\n",
       "Netherlands      236\n",
       "Poland           232\n",
       "United States    211\n",
       "Name: home_team, dtype: int64"
      ]
     },
     "execution_count": 24,
     "metadata": {},
     "output_type": "execute_result"
    }
   ],
   "source": [
    "maclar.home_team[maclar.tournament == \"Friendly\"].value_counts().head(10)"
   ]
  },
  {
   "cell_type": "code",
   "execution_count": 25,
   "metadata": {},
   "outputs": [
    {
     "name": "stdout",
     "output_type": "stream",
     "text": [
      "1    0.594655\n",
      "Name: who_win, dtype: float64\n",
      "1    0.542857\n",
      "Name: who_win, dtype: float64\n",
      "1    0.631325\n",
      "Name: who_win, dtype: float64\n",
      "1    0.458621\n",
      "Name: who_win, dtype: float64\n",
      "1    0.641256\n",
      "Name: who_win, dtype: float64\n",
      "1    0.587302\n",
      "Name: who_win, dtype: float64\n",
      "1    0.585648\n",
      "Name: who_win, dtype: float64\n",
      "1    0.517361\n",
      "Name: who_win, dtype: float64\n"
     ]
    }
   ],
   "source": [
    "total_win_rate_sweden = (maclar.who_win[(maclar.home_team == \"Sweden\") & (maclar.who_win == \"1\")].value_counts()) / 449\n",
    "total_win_rate_sweden_friendly = (maclar.who_win[(maclar.home_team == \"Sweden\") & (maclar.who_win == \"1\") & (maclar.tournament == \"Friendly\")].value_counts()) / 245\n",
    "total_win_rate_germany = (maclar.who_win[(maclar.home_team == \"Germany\") & (maclar.who_win == \"1\")].value_counts()) / 415\n",
    "total_win_rate_germany_friendly = (maclar.who_win[(maclar.home_team == \"Sweden\") & (maclar.who_win == \"1\") & (maclar.tournament == \"Friendly\")].value_counts()) / 290\n",
    "total_win_rate_england = (maclar.who_win[(maclar.home_team == \"England\") & (maclar.who_win == \"1\")].value_counts()) / 446\n",
    "total_win_rate_england_friendly = (maclar.who_win[(maclar.home_team == \"England\") & (maclar.who_win == \"1\") & (maclar.tournament == \"Friendly\")].value_counts()) / 189\n",
    "total_win_rate_france= (maclar.who_win[(maclar.home_team == \"France\") & (maclar.who_win == \"1\")].value_counts()) / 432\n",
    "total_win_rate_france_friendly = (maclar.who_win[(maclar.home_team == \"France\") & (maclar.who_win == \"1\") & (maclar.tournament == \"Friendly\")].value_counts()) / 288\n",
    "print(total_win_rate_sweden)\n",
    "print(total_win_rate_sweden_friendly)\n",
    "print(total_win_rate_germany)\n",
    "print(total_win_rate_germany_friendly)\n",
    "print(total_win_rate_england)\n",
    "print(total_win_rate_england_friendly)\n",
    "print(total_win_rate_france)\n",
    "print(total_win_rate_france_friendly)\n",
    "## All these 4 teams shows that worse performance than general we don't think this is a coincidence and we decided to not trust worhless tournament."
   ]
  },
  {
   "cell_type": "code",
   "execution_count": 26,
   "metadata": {},
   "outputs": [
    {
     "name": "stdout",
     "output_type": "stream",
     "text": [
      "[['Sweden' '59.4' '54.2']\n",
      " ['Germany' '63.1' '45.8']\n",
      " ['England' '64.1' '58.7']\n",
      " ['France' '58.5' '51.7']]\n"
     ]
    }
   ],
   "source": [
    "data = np.array([['Sweden', 59.4, 54.2], ['Germany', 63.1, 45.8], ['England', 64.1, 58.7],['France', 58.5, 51.7]])\n",
    "print(data)"
   ]
  },
  {
   "cell_type": "code",
   "execution_count": 27,
   "metadata": {},
   "outputs": [
    {
     "data": {
      "text/html": [
       "<div>\n",
       "<style scoped>\n",
       "    .dataframe tbody tr th:only-of-type {\n",
       "        vertical-align: middle;\n",
       "    }\n",
       "\n",
       "    .dataframe tbody tr th {\n",
       "        vertical-align: top;\n",
       "    }\n",
       "\n",
       "    .dataframe thead th {\n",
       "        text-align: right;\n",
       "    }\n",
       "</style>\n",
       "<table border=\"1\" class=\"dataframe\">\n",
       "  <thead>\n",
       "    <tr style=\"text-align: right;\">\n",
       "      <th></th>\n",
       "      <th>Teams who have most matches</th>\n",
       "      <th>Average Win Rate</th>\n",
       "      <th>Average Friendly Match Win Rate</th>\n",
       "    </tr>\n",
       "  </thead>\n",
       "  <tbody>\n",
       "    <tr>\n",
       "      <th>0</th>\n",
       "      <td>Sweden</td>\n",
       "      <td>59.4</td>\n",
       "      <td>54.2</td>\n",
       "    </tr>\n",
       "    <tr>\n",
       "      <th>1</th>\n",
       "      <td>Germany</td>\n",
       "      <td>63.1</td>\n",
       "      <td>45.8</td>\n",
       "    </tr>\n",
       "    <tr>\n",
       "      <th>2</th>\n",
       "      <td>England</td>\n",
       "      <td>64.1</td>\n",
       "      <td>58.7</td>\n",
       "    </tr>\n",
       "    <tr>\n",
       "      <th>3</th>\n",
       "      <td>France</td>\n",
       "      <td>58.5</td>\n",
       "      <td>51.7</td>\n",
       "    </tr>\n",
       "  </tbody>\n",
       "</table>\n",
       "</div>"
      ],
      "text/plain": [
       "  Teams who have most matches Average Win Rate Average Friendly Match Win Rate\n",
       "0                      Sweden             59.4                            54.2\n",
       "1                     Germany             63.1                            45.8\n",
       "2                     England             64.1                            58.7\n",
       "3                      France             58.5                            51.7"
      ]
     },
     "execution_count": 27,
     "metadata": {},
     "output_type": "execute_result"
    }
   ],
   "source": [
    "dataset = pd.DataFrame({'Teams who have most matches': data[:,0], 'Average Win Rate': data[:,1], 'Average Friendly Match Win Rate': data[:,2]})\n",
    "dataset.head()"
   ]
  },
  {
   "cell_type": "code",
   "execution_count": 28,
   "metadata": {},
   "outputs": [
    {
     "data": {
      "image/png": "[encoded data removed]",
      "text/plain": [
       "<Figure size 720x360 with 1 Axes>"
      ]
     },
     "metadata": {
      "needs_background": "light"
     },
     "output_type": "display_data"
    }
   ],
   "source": [
    "plt.figure(figsize = (10,5))\n",
    "dataset['Average Win Rate'] = dataset['Average Win Rate'].astype(float)\n",
    "dataset['Average Friendly Match Win Rate'] = dataset['Average Friendly Match Win Rate'].astype(float)\n",
    "\n",
    "sns.barplot(x = 'Teams who have most matches', y = 'Average Win Rate', data = dataset);"
   ]
  },
  {
   "cell_type": "code",
   "execution_count": 29,
   "metadata": {},
   "outputs": [
    {
     "data": {
      "image/png": "[encoded data removed]",
      "text/plain": [
       "<Figure size 720x360 with 1 Axes>"
      ]
     },
     "metadata": {
      "needs_background": "light"
     },
     "output_type": "display_data"
    }
   ],
   "source": [
    "plt.figure(figsize = (10,5))\n",
    "sns.barplot(x = 'Teams who have most matches', y = 'Average Friendly Match Win Rate', data = dataset);"
   ]
  },
  {
   "cell_type": "code",
   "execution_count": 30,
   "metadata": {},
   "outputs": [
    {
     "data": {
      "text/plain": [
       "Friendly                                14268\n",
       "FIFA World Cup qualification             6659\n",
       "UEFA Euro qualification                  2512\n",
       "African Cup of Nations qualification     1615\n",
       "AFC Asian Cup qualification               483\n",
       "British Championship                      452\n",
       "CFU Caribbean Cup qualification           395\n",
       "Copa América                              284\n",
       "Nordic Championship                       278\n",
       "CECAFA Cup                                173\n",
       "AFF Championship                          155\n",
       "African Cup of Nations                    145\n",
       "UEFA Nations League                       140\n",
       "COSAFA Cup                                136\n",
       "African Nations Championship              134\n",
       "International Cup                         127\n",
       "FIFA World Cup                            118\n",
       "King's Cup                                109\n",
       "Gulf Cup                                  104\n",
       "Gold Cup                                   90\n",
       "Name: tournament, dtype: int64"
      ]
     },
     "execution_count": 30,
     "metadata": {},
     "output_type": "execute_result"
    }
   ],
   "source": [
    "maclar.tournament.value_counts().head(20)"
   ]
  },
  {
   "cell_type": "code",
   "execution_count": 31,
   "metadata": {},
   "outputs": [
    {
     "name": "stdout",
     "output_type": "stream",
     "text": [
      "<class 'pandas.core.frame.DataFrame'>\n",
      "RangeIndex: 10904 entries, 0 to 10903\n",
      "Data columns (total 8 columns):\n",
      "home_team     10904 non-null object\n",
      "away_team     10904 non-null object\n",
      "tournament    10904 non-null object\n",
      "country       10904 non-null object\n",
      "year          10904 non-null object\n",
      "total_goal    10904 non-null int64\n",
      "who_win       10904 non-null object\n",
      "season        10904 non-null object\n",
      "dtypes: int64(1), object(7)\n",
      "memory usage: 681.6+ KB\n"
     ]
    }
   ],
   "source": [
    "maclar.drop(maclar[(maclar[\"tournament\"] != \"FIFA World Cup qualification\") & \n",
    "                  (maclar[\"tournament\"] != \"UEFA Euro qualification\") & \n",
    "                  (maclar[\"tournament\"] != \"FIFA World Cup\") &\n",
    "                  (maclar[\"tournament\"] != \"African Cup of Nations qualification\")].index, \n",
    "            axis = 0, inplace = True)\n",
    "maclar = maclar.reset_index(drop=True)# We did a lot of drop operation before we do anything it will be better to reset index\n",
    "maclar.info()"
   ]
  },
  {
   "cell_type": "code",
   "execution_count": 32,
   "metadata": {},
   "outputs": [
    {
     "data": {
      "text/html": [
       "<div>\n",
       "<style scoped>\n",
       "    .dataframe tbody tr th:only-of-type {\n",
       "        vertical-align: middle;\n",
       "    }\n",
       "\n",
       "    .dataframe tbody tr th {\n",
       "        vertical-align: top;\n",
       "    }\n",
       "\n",
       "    .dataframe thead th {\n",
       "        text-align: right;\n",
       "    }\n",
       "</style>\n",
       "<table border=\"1\" class=\"dataframe\">\n",
       "  <thead>\n",
       "    <tr style=\"text-align: right;\">\n",
       "      <th></th>\n",
       "      <th>home_team</th>\n",
       "      <th>away_team</th>\n",
       "      <th>tournament</th>\n",
       "      <th>country</th>\n",
       "      <th>year</th>\n",
       "      <th>who_win</th>\n",
       "      <th>season</th>\n",
       "    </tr>\n",
       "  </thead>\n",
       "  <tbody>\n",
       "    <tr>\n",
       "      <th>0</th>\n",
       "      <td>Uruguay</td>\n",
       "      <td>Peru</td>\n",
       "      <td>FIFA</td>\n",
       "      <td>Uruguay</td>\n",
       "      <td>1930</td>\n",
       "      <td>1</td>\n",
       "      <td>Summer</td>\n",
       "    </tr>\n",
       "    <tr>\n",
       "      <th>1</th>\n",
       "      <td>Uruguay</td>\n",
       "      <td>Romania</td>\n",
       "      <td>FIFA</td>\n",
       "      <td>Uruguay</td>\n",
       "      <td>1930</td>\n",
       "      <td>1</td>\n",
       "      <td>Summer</td>\n",
       "    </tr>\n",
       "    <tr>\n",
       "      <th>2</th>\n",
       "      <td>Uruguay</td>\n",
       "      <td>Yugoslavia</td>\n",
       "      <td>FIFA</td>\n",
       "      <td>Uruguay</td>\n",
       "      <td>1930</td>\n",
       "      <td>1</td>\n",
       "      <td>Summer</td>\n",
       "    </tr>\n",
       "    <tr>\n",
       "      <th>3</th>\n",
       "      <td>Uruguay</td>\n",
       "      <td>Argentina</td>\n",
       "      <td>FIFA</td>\n",
       "      <td>Uruguay</td>\n",
       "      <td>1930</td>\n",
       "      <td>1</td>\n",
       "      <td>Summer</td>\n",
       "    </tr>\n",
       "    <tr>\n",
       "      <th>4</th>\n",
       "      <td>Sweden</td>\n",
       "      <td>Estonia</td>\n",
       "      <td>FIFA</td>\n",
       "      <td>Sweden</td>\n",
       "      <td>1933</td>\n",
       "      <td>1</td>\n",
       "      <td>Summer</td>\n",
       "    </tr>\n",
       "  </tbody>\n",
       "</table>\n",
       "</div>"
      ],
      "text/plain": [
       "  home_team   away_team tournament  country  year who_win  season\n",
       "0   Uruguay        Peru       FIFA  Uruguay  1930       1  Summer\n",
       "1   Uruguay     Romania       FIFA  Uruguay  1930       1  Summer\n",
       "2   Uruguay  Yugoslavia       FIFA  Uruguay  1930       1  Summer\n",
       "3   Uruguay   Argentina       FIFA  Uruguay  1930       1  Summer\n",
       "4    Sweden     Estonia       FIFA   Sweden  1933       1  Summer"
      ]
     },
     "execution_count": 32,
     "metadata": {},
     "output_type": "execute_result"
    }
   ],
   "source": [
    "maclar.tournament[(maclar.tournament == \"FIFA World Cup\") | (maclar.tournament == \"FIFA World Cup qualification\")] = \"FIFA\"\n",
    "maclar.tournament[maclar.tournament == \"UEFA Euro qualification\"] = \"UEFA\"\n",
    "maclar.tournament[maclar.tournament == \"African Cup of Nations qualification\"] = \"African Cup\"\n",
    "maclar = maclar.drop('total_goal', axis = 1)\n",
    "maclar.head()"
   ]
  },
  {
   "cell_type": "code",
   "execution_count": 33,
   "metadata": {},
   "outputs": [
    {
     "data": {
      "text/plain": [
       "array(['1930', '1933', '1934', '1937', '1938', '1949', '1950', '1953',\n",
       "       '1954', '1956', '1957', '1958', '1959', '1960', '1961', '1962',\n",
       "       '1963', '1964', '1965', '1966', '1967', '1968', '1969', '1970',\n",
       "       '1971', '1972', '1973', '1974', '1975', '1976', '1977', '1978',\n",
       "       '1979', '1980', '1981', '1982', '1983', '1984', '1985', '1986',\n",
       "       '1987', '1988', '1989', '1990', '1991', '1992', '1993', '1994',\n",
       "       '1995', '1996', '1997', '1998', '1999', '2000', '2001', '2002',\n",
       "       '2003', '2004', '2005', '2006', '2007', '2008', '2009', '2010',\n",
       "       '2011', '2012', '2013', '2014', '2015', '2016', '2017', '2018',\n",
       "       '2019'], dtype=object)"
      ]
     },
     "execution_count": 33,
     "metadata": {},
     "output_type": "execute_result"
    }
   ],
   "source": [
    "maclar.year.unique()"
   ]
  },
  {
   "cell_type": "code",
   "execution_count": 34,
   "metadata": {},
   "outputs": [
    {
     "data": {
      "text/plain": [
       "1    4\n",
       "0    4\n",
       "2    2\n",
       "Name: who_win, dtype: int64"
      ]
     },
     "execution_count": 34,
     "metadata": {},
     "output_type": "execute_result"
    }
   ],
   "source": [
    "maclar.who_win[(maclar.away_team == \"Tunisia\") & (maclar.season == \"Winter\") ].value_counts()"
   ]
  },
  {
   "cell_type": "code",
   "execution_count": 35,
   "metadata": {},
   "outputs": [
    {
     "data": {
      "text/plain": [
       "2    28\n",
       "1    27\n",
       "0    24\n",
       "Name: who_win, dtype: int64"
      ]
     },
     "execution_count": 35,
     "metadata": {},
     "output_type": "execute_result"
    }
   ],
   "source": [
    "maclar.who_win[(maclar.away_team == \"Tunisia\") & (maclar.season != \"Winter\") ].value_counts()"
   ]
  },
  {
   "cell_type": "code",
   "execution_count": 36,
   "metadata": {},
   "outputs": [
    {
     "data": {
      "text/plain": [
       "1    13\n",
       "Name: who_win, dtype: int64"
      ]
     },
     "execution_count": 36,
     "metadata": {},
     "output_type": "execute_result"
    }
   ],
   "source": [
    "maclar.who_win[(maclar.away_team == \"Cyprus\") & (maclar.season == \"Winter\") ].value_counts()"
   ]
  },
  {
   "cell_type": "code",
   "execution_count": 37,
   "metadata": {},
   "outputs": [
    {
     "data": {
      "text/plain": [
       "1    77\n",
       "2    12\n",
       "0     7\n",
       "Name: who_win, dtype: int64"
      ]
     },
     "execution_count": 37,
     "metadata": {},
     "output_type": "execute_result"
    }
   ],
   "source": [
    "maclar.who_win[(maclar.away_team == \"Cyprus\") & (maclar.season != \"Winter\") ].value_counts()"
   ]
  },
  {
   "cell_type": "code",
   "execution_count": 38,
   "metadata": {},
   "outputs": [
    {
     "data": {
      "text/plain": [
       "1    6\n",
       "0    2\n",
       "Name: who_win, dtype: int64"
      ]
     },
     "execution_count": 38,
     "metadata": {},
     "output_type": "execute_result"
    }
   ],
   "source": [
    "maclar.who_win[(maclar.away_team == \"Turkey\") & (maclar.season == \"Winter\") ].value_counts()"
   ]
  },
  {
   "cell_type": "code",
   "execution_count": 39,
   "metadata": {},
   "outputs": [
    {
     "data": {
      "text/plain": [
       "1    48\n",
       "2    35\n",
       "0    28\n",
       "Name: who_win, dtype: int64"
      ]
     },
     "execution_count": 39,
     "metadata": {},
     "output_type": "execute_result"
    }
   ],
   "source": [
    "maclar.who_win[(maclar.away_team == \"Turkey\") & (maclar.season != \"Winter\") ].value_counts()"
   ]
  },
  {
   "cell_type": "code",
   "execution_count": 40,
   "metadata": {},
   "outputs": [],
   "source": [
    "Tunisia_win_rate_winter = (2/8)*100 \n",
    "Tunisia_win_rate = (28/51)*100 \n",
    "Cyprus_win_rate_winter = (0/13)*100 \n",
    "Cyprus_win_rate = (12/84)*100 \n",
    "Turkey_win_rate_winter = (0/8)*100 \n",
    "Turkey_win_rate = (35/76)*100 "
   ]
  },
  {
   "cell_type": "code",
   "execution_count": 41,
   "metadata": {},
   "outputs": [
    {
     "data": {
      "text/html": [
       "<div>\n",
       "<style scoped>\n",
       "    .dataframe tbody tr th:only-of-type {\n",
       "        vertical-align: middle;\n",
       "    }\n",
       "\n",
       "    .dataframe tbody tr th {\n",
       "        vertical-align: top;\n",
       "    }\n",
       "\n",
       "    .dataframe thead th {\n",
       "        text-align: right;\n",
       "    }\n",
       "</style>\n",
       "<table border=\"1\" class=\"dataframe\">\n",
       "  <thead>\n",
       "    <tr style=\"text-align: right;\">\n",
       "      <th></th>\n",
       "      <th>Teams</th>\n",
       "      <th>Win Rate in Winter</th>\n",
       "      <th>Win Rate in other season</th>\n",
       "    </tr>\n",
       "  </thead>\n",
       "  <tbody>\n",
       "    <tr>\n",
       "      <th>0</th>\n",
       "      <td>Tunisia</td>\n",
       "      <td>25.0</td>\n",
       "      <td>54.90196078431373</td>\n",
       "    </tr>\n",
       "    <tr>\n",
       "      <th>1</th>\n",
       "      <td>Cyprus</td>\n",
       "      <td>0.0</td>\n",
       "      <td>14.285714285714285</td>\n",
       "    </tr>\n",
       "    <tr>\n",
       "      <th>2</th>\n",
       "      <td>Turkey</td>\n",
       "      <td>0.0</td>\n",
       "      <td>46.05263157894737</td>\n",
       "    </tr>\n",
       "  </tbody>\n",
       "</table>\n",
       "</div>"
      ],
      "text/plain": [
       "     Teams Win Rate in Winter Win Rate in other season\n",
       "0  Tunisia               25.0        54.90196078431373\n",
       "1   Cyprus                0.0       14.285714285714285\n",
       "2   Turkey                0.0        46.05263157894737"
      ]
     },
     "execution_count": 41,
     "metadata": {},
     "output_type": "execute_result"
    }
   ],
   "source": [
    "data = np.array([['Tunisia', Tunisia_win_rate_winter, Tunisia_win_rate], ['Cyprus', Cyprus_win_rate_winter, Cyprus_win_rate], ['Turkey', Turkey_win_rate_winter,Turkey_win_rate]])\n",
    "dataset = pd.DataFrame({'Teams': data[:,0], 'Win Rate in Winter': data[:,1], 'Win Rate in other season': data[:,2]})\n",
    "dataset.head()"
   ]
  },
  {
   "cell_type": "code",
   "execution_count": 42,
   "metadata": {},
   "outputs": [],
   "source": [
    "dataset['Win Rate in other season'] = dataset['Win Rate in other season'].astype(float)\n",
    "dataset['Win Rate in Winter'] = dataset['Win Rate in Winter'].astype(float)"
   ]
  },
  {
   "cell_type": "code",
   "execution_count": 43,
   "metadata": {},
   "outputs": [
    {
     "data": {
      "text/plain": [
       "<matplotlib.axes._subplots.AxesSubplot at 0x204de002908>"
      ]
     },
     "execution_count": 43,
     "metadata": {},
     "output_type": "execute_result"
    },
    {
     "data": {
      "image/png": "[encoded data removed]",
      "text/plain": [
       "<Figure size 432x288 with 1 Axes>"
      ]
     },
     "metadata": {
      "needs_background": "light"
     },
     "output_type": "display_data"
    }
   ],
   "source": [
    "sns.barplot(x = 'Win Rate in Winter', y = 'Teams', data = dataset)"
   ]
  },
  {
   "cell_type": "code",
   "execution_count": 44,
   "metadata": {},
   "outputs": [
    {
     "data": {
      "text/plain": [
       "<matplotlib.axes._subplots.AxesSubplot at 0x204ddfcd6a0>"
      ]
     },
     "execution_count": 44,
     "metadata": {},
     "output_type": "execute_result"
    },
    {
     "data": {
      "image/png": "[encoded data removed]",
      "text/plain": [
       "<Figure size 432x288 with 1 Axes>"
      ]
     },
     "metadata": {
      "needs_background": "light"
     },
     "output_type": "display_data"
    }
   ],
   "source": [
    "sns.barplot(x = 'Win Rate in other season', y = 'Teams', data = dataset)"
   ]
  },
  {
   "cell_type": "code",
   "execution_count": 45,
   "metadata": {},
   "outputs": [
    {
     "data": {
      "text/html": [
       "<div>\n",
       "<style scoped>\n",
       "    .dataframe tbody tr th:only-of-type {\n",
       "        vertical-align: middle;\n",
       "    }\n",
       "\n",
       "    .dataframe tbody tr th {\n",
       "        vertical-align: top;\n",
       "    }\n",
       "\n",
       "    .dataframe thead th {\n",
       "        text-align: right;\n",
       "    }\n",
       "</style>\n",
       "<table border=\"1\" class=\"dataframe\">\n",
       "  <thead>\n",
       "    <tr style=\"text-align: right;\">\n",
       "      <th></th>\n",
       "      <th>home_team</th>\n",
       "      <th>away_team</th>\n",
       "      <th>tournament</th>\n",
       "      <th>country</th>\n",
       "      <th>year</th>\n",
       "      <th>who_win</th>\n",
       "      <th>season</th>\n",
       "    </tr>\n",
       "  </thead>\n",
       "  <tbody>\n",
       "    <tr>\n",
       "      <th>0</th>\n",
       "      <td>Uruguay</td>\n",
       "      <td>Peru</td>\n",
       "      <td>FIFA</td>\n",
       "      <td>Uruguay</td>\n",
       "      <td>0</td>\n",
       "      <td>1</td>\n",
       "      <td>Summer</td>\n",
       "    </tr>\n",
       "    <tr>\n",
       "      <th>1</th>\n",
       "      <td>Uruguay</td>\n",
       "      <td>Romania</td>\n",
       "      <td>FIFA</td>\n",
       "      <td>Uruguay</td>\n",
       "      <td>0</td>\n",
       "      <td>1</td>\n",
       "      <td>Summer</td>\n",
       "    </tr>\n",
       "    <tr>\n",
       "      <th>2</th>\n",
       "      <td>Uruguay</td>\n",
       "      <td>Yugoslavia</td>\n",
       "      <td>FIFA</td>\n",
       "      <td>Uruguay</td>\n",
       "      <td>0</td>\n",
       "      <td>1</td>\n",
       "      <td>Summer</td>\n",
       "    </tr>\n",
       "    <tr>\n",
       "      <th>3</th>\n",
       "      <td>Uruguay</td>\n",
       "      <td>Argentina</td>\n",
       "      <td>FIFA</td>\n",
       "      <td>Uruguay</td>\n",
       "      <td>0</td>\n",
       "      <td>1</td>\n",
       "      <td>Summer</td>\n",
       "    </tr>\n",
       "    <tr>\n",
       "      <th>4</th>\n",
       "      <td>Sweden</td>\n",
       "      <td>Estonia</td>\n",
       "      <td>FIFA</td>\n",
       "      <td>Sweden</td>\n",
       "      <td>0</td>\n",
       "      <td>1</td>\n",
       "      <td>Summer</td>\n",
       "    </tr>\n",
       "  </tbody>\n",
       "</table>\n",
       "</div>"
      ],
      "text/plain": [
       "  home_team   away_team tournament  country year who_win  season\n",
       "0   Uruguay        Peru       FIFA  Uruguay    0       1  Summer\n",
       "1   Uruguay     Romania       FIFA  Uruguay    0       1  Summer\n",
       "2   Uruguay  Yugoslavia       FIFA  Uruguay    0       1  Summer\n",
       "3   Uruguay   Argentina       FIFA  Uruguay    0       1  Summer\n",
       "4    Sweden     Estonia       FIFA   Sweden    0       1  Summer"
      ]
     },
     "execution_count": 45,
     "metadata": {},
     "output_type": "execute_result"
    }
   ],
   "source": [
    "# We have one more step. Year can be an important value but it is like this 1930-1931-1932-1933 etc. \n",
    "# This looks like regression problem but our problem is  aclassification problem. \n",
    "# We want to know who will win 0,1 or 2. We need to group the years and also drop the total_goal column because it has no effect on who will win.\n",
    "maclar['year'] = np.where((maclar.year < '1950') , '0',\n",
    "                           np.where((maclar.year > '1950') & (maclar.year < '1970'), '1',\n",
    "                                    np.where((maclar.year > '1970') & (maclar.year < '1990'), '2',\n",
    "                                             np.where((maclar.year > '1990') & (maclar.year < '2010'), '3',\n",
    "                                                '4'))))\n",
    "maclar.head()"
   ]
  },
  {
   "cell_type": "code",
   "execution_count": 46,
   "metadata": {},
   "outputs": [],
   "source": [
    "maclar['season'] = np.where((maclar.season == 'Winter') , '0',\n",
    "                           np.where((maclar.season == 'Fall'), '1',\n",
    "                                    np.where((maclar.season == 'Spring'), '2',\n",
    "                                             np.where((maclar.season == 'Summer'), '3',\n",
    "                                               '4')))) "
   ]
  },
  {
   "cell_type": "code",
   "execution_count": 47,
   "metadata": {},
   "outputs": [
    {
     "name": "stdout",
     "output_type": "stream",
     "text": [
      "<class 'pandas.core.frame.DataFrame'>\n",
      "RangeIndex: 10904 entries, 0 to 10903\n",
      "Data columns (total 7 columns):\n",
      "home_team     10904 non-null object\n",
      "away_team     10904 non-null object\n",
      "tournament    10904 non-null object\n",
      "country       10904 non-null object\n",
      "year          10904 non-null object\n",
      "who_win       10904 non-null object\n",
      "season        10904 non-null object\n",
      "dtypes: object(7)\n",
      "memory usage: 596.4+ KB\n"
     ]
    }
   ],
   "source": [
    "maclar.info()"
   ]
  },
  {
   "cell_type": "code",
   "execution_count": 48,
   "metadata": {},
   "outputs": [
    {
     "data": {
      "text/plain": [
       "(10904, 7)"
      ]
     },
     "execution_count": 48,
     "metadata": {},
     "output_type": "execute_result"
    }
   ],
   "source": [
    "# Now our dataset is ready to prepare being apply machine learning\n",
    "maclar.shape"
   ]
  },
  {
   "cell_type": "markdown",
   "metadata": {},
   "source": [
    "## Final Step Before Apply Machine Learning Algorithms"
   ]
  },
  {
   "cell_type": "code",
   "execution_count": 49,
   "metadata": {},
   "outputs": [
    {
     "data": {
      "text/plain": [
       "home_team     object\n",
       "away_team     object\n",
       "tournament    object\n",
       "country       object\n",
       "year          object\n",
       "who_win       object\n",
       "season        object\n",
       "dtype: object"
      ]
     },
     "execution_count": 49,
     "metadata": {},
     "output_type": "execute_result"
    }
   ],
   "source": [
    "# Before we apply machine learning algorithm we need to turn all of our value to an integer.\n",
    "maclar.dtypes\n",
    "# There are object."
   ]
  },
  {
   "cell_type": "code",
   "execution_count": 50,
   "metadata": {},
   "outputs": [
    {
     "name": "stdout",
     "output_type": "stream",
     "text": [
      "['Uruguay' 'Sweden' 'Lithuania' 'Yugoslavia' 'Poland' 'Switzerland'\n",
      " 'Haiti' 'Mexico' 'Luxembourg' 'Spain' 'Egypt' 'Portugal' 'Bulgaria'\n",
      " 'Italy' 'Netherlands' 'Austria' 'Belgium' 'Romania' 'Finland' 'Latvia'\n",
      " 'Germany' 'Norway' 'Greece' 'Hungary' 'Czechoslovakia' 'France'\n",
      " 'Republic of Ireland' 'Israel' 'Northern Ireland' 'Wales' 'Scotland'\n",
      " 'England' 'Turkey' 'Brazil' 'Saarland' 'Paraguay' 'Chile' 'Japan'\n",
      " 'Guatemala' 'Costa Rica' 'Sudan' 'Peru' 'United States' 'Indonesia'\n",
      " 'Denmark' 'German DR' 'Syria' 'China PR' 'Colombia' 'Canada' 'Iceland'\n",
      " 'Bolivia' 'Argentina' 'Ghana' 'Honduras' 'Nigeria' 'Suriname' 'Morocco'\n",
      " 'South Korea' 'Cyprus' 'Tunisia' 'Ecuador' 'Kenya' 'Uganda' 'Malta'\n",
      " 'Guinea' 'Albania' 'Jamaica' 'Ivory Coast' 'Cuba' 'Trinidad and Tobago'\n",
      " 'Ethiopia' 'Mali' 'Senegal' 'Liberia' 'Venezuela' 'Libya' 'Cameroon'\n",
      " 'DR Congo' 'Algeria' 'Tanzania' 'Mauritius' 'Togo' 'Bermuda' 'Zambia'\n",
      " 'El Salvador' 'Niger' 'Australia' 'Gabon' 'Madagascar' 'Congo'\n",
      " 'Puerto Rico' 'Lesotho' 'Sierra Leone' 'Antigua and Barbuda'\n",
      " 'New Zealand' 'Central African Republic' 'Iran' 'Somalia' 'Burundi'\n",
      " 'Gambia' 'Mauritania' 'Dominican Republic' 'Panama' 'Malawi' 'Guyana'\n",
      " 'Barbados' 'Saudi Arabia' 'Singapore' 'Qatar' 'Hong Kong' 'Kuwait'\n",
      " 'Benin' 'Grenada' 'Mozambique' 'Zimbabwe' 'Fiji' 'Rwanda' 'Angola'\n",
      " 'Eswatini' 'Macau' 'Nepal' 'Malaysia' 'Jordan' 'Thailand' 'Yemen DPR'\n",
      " 'Bangladesh' 'Brunei' 'India' 'Bahrain' 'United Arab Emirates'\n",
      " 'North Korea' 'Burkina Faso' 'Equatorial Guinea' 'Oman' 'Pakistan' 'Iraq'\n",
      " 'San Marino' 'Chad' 'Saint Lucia' 'Saint Vincent and the Grenadines'\n",
      " 'Faroe Islands' 'Guinea-Bissau' 'Vanuatu' 'Botswana' 'Cape Verde'\n",
      " 'Solomon Islands' 'Nicaragua' 'Estonia' 'South Africa' 'Russia' 'Namibia'\n",
      " 'Czech Republic' 'Lebanon' 'Georgia' 'Liechtenstein' 'North Macedonia'\n",
      " 'Slovakia' 'Slovenia' 'Ukraine' 'Armenia' 'Croatia' 'Belarus' 'Moldova'\n",
      " 'Dominica' 'Aruba' 'Saint Kitts and Nevis' 'Cayman Islands' 'Belize'\n",
      " 'Seychelles' 'Azerbaijan' 'Papua New Guinea' 'Tonga'\n",
      " 'Bosnia and Herzegovina' 'Cambodia' 'Tajikistan' 'Turkmenistan' 'Yemen'\n",
      " 'Kazakhstan' 'Uzbekistan' 'Vietnam' 'Andorra' 'Eritrea' 'Anguilla'\n",
      " 'British Virgin Islands' 'Bahamas' 'U.S. Virgin Islands' 'Djibouti'\n",
      " 'São Tomé and Príncipe' 'Maldives' 'Laos' 'Philippines' 'Afghanistan'\n",
      " 'Mongolia' 'Kyrgyzstan' 'Sri Lanka' 'Montserrat' 'Samoa' 'Serbia'\n",
      " 'Comoros' 'New Caledonia' 'Turks and Caicos Islands' 'Montenegro' 'Burma'\n",
      " 'Palestine' 'Curaçao' 'East Timor' 'Bhutan' 'Guam' 'South Sudan'\n",
      " 'Gibraltar' 'Kosovo' 'Chinese Taipei' 'Myanmar']\n",
      "['Peru' 'Romania' 'Yugoslavia' 'Argentina' 'Estonia' 'Sweden'\n",
      " 'Switzerland' 'Czechoslovakia' 'Cuba' 'Germany' 'Portugal' 'Israel'\n",
      " 'Spain' 'Hungary' 'Greece' 'Republic of Ireland' 'France' 'Bulgaria'\n",
      " 'Netherlands' 'United States' 'Austria' 'Finland' 'Lithuania' 'Latvia'\n",
      " 'Luxembourg' 'Belgium' 'Poland' 'Italy' 'Scotland' 'England' 'Wales'\n",
      " 'Northern Ireland' 'Syria' 'Mexico' 'Uruguay' 'Saarland' 'Haiti' 'Norway'\n",
      " 'Turkey' 'Egypt' 'Chile' 'Paraguay' 'Brazil' 'South Korea' 'Denmark'\n",
      " 'Costa Rica' 'Guatemala' 'Curaçao' 'China PR' 'Sudan' 'Indonesia'\n",
      " 'Iceland' 'German DR' 'Canada' 'Colombia' 'Russia' 'Bolivia' 'Nigeria'\n",
      " 'Ghana' 'Honduras' 'Tunisia' 'Japan' 'Morocco' 'Cyprus' 'Ecuador'\n",
      " 'Ethiopia' 'Uganda' 'Kenya' 'Malta' 'Albania' 'Guinea' 'DR Congo'\n",
      " 'Jamaica' 'Suriname' 'Trinidad and Tobago' 'Senegal' 'Mali' 'Venezuela'\n",
      " 'Ivory Coast' 'Liberia' 'Cameroon' 'Congo' 'Burkina Faso' 'Togo'\n",
      " 'Mauritius' 'Tanzania' 'Bermuda' 'Zambia' 'El Salvador' 'Algeria' 'Libya'\n",
      " 'Niger' 'New Zealand' 'Australia' 'Benin' 'Gabon' 'Madagascar'\n",
      " 'Puerto Rico' 'Lesotho' 'Sierra Leone' 'Antigua and Barbuda' 'Iraq'\n",
      " 'Central African Republic' 'North Korea' 'Kuwait' 'Thailand' 'Malaysia'\n",
      " 'Hong Kong' 'Iran' 'Burundi' 'Somalia' 'Gambia' 'Dominican Republic'\n",
      " 'Malawi' 'Panama' 'Guyana' 'Barbados' 'Saudi Arabia' 'Bahrain'\n",
      " 'Chinese Taipei' 'Grenada' 'Mozambique' 'Mauritania' 'Zimbabwe' 'Angola'\n",
      " 'Singapore' 'Qatar' 'Rwanda' 'Fiji' 'Eswatini' 'Brunei' 'Bangladesh'\n",
      " 'India' 'Lebanon' 'Nepal' 'Yemen' 'Yemen DPR' 'Jordan'\n",
      " 'United Arab Emirates' 'Macau' 'Seychelles' 'Oman' 'Pakistan' 'Chad'\n",
      " 'Faroe Islands' 'San Marino' 'Saint Vincent and the Grenadines'\n",
      " 'Saint Lucia' 'Cape Verde' 'Botswana' 'Guinea-Bissau' 'Vanuatu' 'Tahiti'\n",
      " 'Nicaragua' 'South Africa' 'Solomon Islands' 'Namibia' 'Czech Republic'\n",
      " 'Vietnam' 'Sri Lanka' 'Liechtenstein' 'Croatia' 'Armenia' 'Moldova'\n",
      " 'Belarus' 'Azerbaijan' 'Georgia' 'Slovakia' 'Slovenia' 'North Macedonia'\n",
      " 'Ukraine' 'Aruba' 'Dominica' 'Saint Kitts and Nevis' 'Belize'\n",
      " 'Bosnia and Herzegovina' 'Philippines' 'Serbia' 'Cook Islands' 'Samoa'\n",
      " 'Tonga' 'Cambodia' 'Uzbekistan' 'Tajikistan' 'Turkmenistan' 'Maldives'\n",
      " 'Kazakhstan' 'Kyrgyzstan' 'Papua New Guinea' 'Djibouti'\n",
      " 'Equatorial Guinea' 'São Tomé and Príncipe' 'Andorra' 'Eritrea' 'Bahamas'\n",
      " 'Cayman Islands' 'Montserrat' 'U.S. Virgin Islands'\n",
      " 'Turks and Caicos Islands' 'Anguilla' 'British Virgin Islands' 'Guam'\n",
      " 'Mongolia' 'Palestine' 'American Samoa' 'Laos' 'Afghanistan'\n",
      " 'New Caledonia' 'Comoros' 'Burma' 'East Timor' 'Montenegro' 'Gibraltar'\n",
      " 'Bhutan' 'South Sudan' 'Kosovo' 'Timor-Leste' 'Myanmar']\n",
      "['FIFA' 'UEFA' 'African Cup']\n",
      "['0' '4' '1' '2' '3']\n",
      "['3' '1' '0' '2']\n",
      "['1' '2' '0']\n"
     ]
    }
   ],
   "source": [
    "print(maclar['home_team'].unique())\n",
    "print(maclar['away_team'].unique())\n",
    "print(maclar['tournament'].unique())\n",
    "print(maclar['year'].unique())\n",
    "#print(maclar['country'].unique())\n",
    "print(maclar['season'].unique())\n",
    "print(maclar['who_win'].unique())"
   ]
  },
  {
   "cell_type": "code",
   "execution_count": 51,
   "metadata": {},
   "outputs": [
    {
     "data": {
      "text/plain": [
       "home_team     int32\n",
       "away_team     int32\n",
       "tournament    int32\n",
       "country       int32\n",
       "year          int32\n",
       "who_win       int32\n",
       "season        int32\n",
       "dtype: object"
      ]
     },
     "execution_count": 51,
     "metadata": {},
     "output_type": "execute_result"
    }
   ],
   "source": [
    "labelencoder = LabelEncoder()\n",
    "# We want to change all variable types to integer\n",
    "maclar.iloc[:,0] = labelencoder.fit_transform(maclar.iloc[:,0].values)\n",
    "maclar.iloc[:,1] = labelencoder.fit_transform(maclar.iloc[:,1].values)\n",
    "maclar.iloc[:,2] = labelencoder.fit_transform(maclar.iloc[:,2].values)\n",
    "maclar.iloc[:,3] = labelencoder.fit_transform(maclar.iloc[:,3].values)\n",
    "maclar.iloc[:,4] = labelencoder.fit_transform(maclar.iloc[:,4].values)\n",
    "maclar.iloc[:,5] = labelencoder.fit_transform(maclar.iloc[:,5].values)\n",
    "maclar.iloc[:,6] = labelencoder.fit_transform(maclar.iloc[:,6].values)\n",
    "\n",
    "maclar.dtypes"
   ]
  },
  {
   "cell_type": "code",
   "execution_count": 52,
   "metadata": {},
   "outputs": [
    {
     "name": "stdout",
     "output_type": "stream",
     "text": [
      "[203 184 113 211 152 185  86 124 114 180  60 153  29  96 134  11  18 157\n",
      "  70 107  76 143  79  89  52  71 156  95 142 208 167  62 195  26 160 149\n",
      "  40  99  82  46 182 150 202  92  54  75 186  41  43  35  90  23   7  77\n",
      "  87 139 183 129 178  50 194  59 102 199 121  83   1  98  97  48 193  67\n",
      " 120 168 110 206 111  34  53   2 189 123 191  21 212  61 138  10  72 116\n",
      "  45 154 109 171   6 136  38  93 176  32  73 122  57 147 117  85  16 166\n",
      " 172 155  88 104  20  80 130 213  69 159   4  66 115 133 118 100 190 210\n",
      "  15  28  91  14 201 140  30  63 144 145  94 165  39 162 163  68  84 205\n",
      "  25  36 175 137  65 177 158 132  51 108  74 112 141 173 174 200   8  47\n",
      "  17 125  56   9 161  37  19 170  12 148 192  24  33 188 196 209 101 204\n",
      " 207   3  64   5  27  13 198  55 187 119 106 151   0 126 105 181 128 164\n",
      " 169  44 135 197 127  31 146  49  58  22  81 179  78 103  42 131]\n",
      "[152 159 215   8  67 186 187  54  50  78 155  97 182  91  81 158  73  30\n",
      " 136 206  12  72 115 109 116  19 154  98 169  64 212 144 188 126 207 162\n",
      "  88 145 199  62  41 151  27 180  56  48  84  51  42 184  94  92  77  36\n",
      "  44 160  24 141  79  89 198 101 131  52  61  69 203 104 123   1  85  55\n",
      " 100 185 197 170 122 210  99 112  35  46  31 195 125 192  22 216  63   2\n",
      " 113 140 138  11  21  74 118 156 111 173   7  96  39 142 106 193 120  90\n",
      "  95  33 178  75  59 119 149  87  17 168  15  43  82 132 124 217   5 174\n",
      " 157 161  71  68  29  16  93 110 135 213 214 102 205 117 172 146 147  40\n",
      "  70 167 165 164  37  26  86 209 190 139 179 177 134  53 211 183 114  49\n",
      "   9 127  18  13  76 175 176 143 204  10  58 163  20  25 153 171  47 166\n",
      " 196  34 208 191 200 121 103 107 150  57  65 189   4  66  14  38 130 202\n",
      " 201   6  28  83 128 148   3 108   0 137  45  32  60 129  80  23 181 105\n",
      " 194 133]\n",
      "[1 2 0]\n",
      "[0 4 1 2 3]\n",
      "[3 1 0 2]\n",
      "[1 2 0]\n"
     ]
    }
   ],
   "source": [
    "print(maclar['home_team'].unique())\n",
    "print(maclar['away_team'].unique())\n",
    "print(maclar['tournament'].unique())\n",
    "print(maclar['year'].unique())\n",
    "#print(maclar['country'].unique())\n",
    "print(maclar['season'].unique())\n",
    "print(maclar['who_win'].unique())\n",
    "# They are all turn into a number"
   ]
  },
  {
   "cell_type": "code",
   "execution_count": 53,
   "metadata": {},
   "outputs": [],
   "source": [
    "test_maclar = maclar.tail(100)\n",
    "maclar = maclar[:-100]\n",
    "# We decided to make another dataset called test_maclar and there are 100 match in it just to make sure what will do our model if counter a different dataset"
   ]
  },
  {
   "cell_type": "code",
   "execution_count": 54,
   "metadata": {},
   "outputs": [],
   "source": [
    "# We split our dataset into a test and training datasets\n",
    "# 20 percent of our dataset is for testing\n",
    "# 80 percent of our dataset is for trainning\n",
    "x = maclar.drop(\"who_win\", axis = 1)\n",
    "y = maclar[\"who_win\"]\n",
    "\n",
    "x_train, x_test, y_train, y_test = train_test_split(x, y, test_size = 0.2, random_state = 10)"
   ]
  },
  {
   "cell_type": "markdown",
   "metadata": {},
   "source": [
    "## Applying Machine Learning Algorithms"
   ]
  },
  {
   "cell_type": "code",
   "execution_count": 55,
   "metadata": {},
   "outputs": [],
   "source": [
    "# Because of our problem is classification problem we will apply classification machine learning algorithms\n",
    "gercek_sonuclar = test_maclar.who_win\n",
    "test_maclar = test_maclar.drop('who_win', axis = 1)"
   ]
  },
  {
   "cell_type": "code",
   "execution_count": 56,
   "metadata": {},
   "outputs": [
    {
     "name": "stdout",
     "output_type": "stream",
     "text": [
      "Accuracy: 54.19%\n"
     ]
    }
   ],
   "source": [
    "# 1st Decision Tree\n",
    "# In our dataset\n",
    "# There can be a better option\n",
    "\n",
    "model = DecisionTreeClassifier(random_state = 10, max_depth = 10)\n",
    "model.fit(x_train, y_train)\n",
    "y_pred = model.predict(x_test)\n",
    "\n",
    "accuracy = accuracy_score(y_test, y_pred)\n",
    "print(\"Accuracy: %.2f%%\" % (accuracy * 100.0))"
   ]
  },
  {
   "cell_type": "code",
   "execution_count": 57,
   "metadata": {},
   "outputs": [
    {
     "name": "stdout",
     "output_type": "stream",
     "text": [
      "Accuracy: 58.00%\n"
     ]
    }
   ],
   "source": [
    "# In different dataset\n",
    "# There can be a better option\n",
    "\n",
    "y_pred = model.predict(test_maclar)\n",
    "accuracy = accuracy_score(gercek_sonuclar, y_pred)\n",
    "print(\"Accuracy: %.2f%%\" % (accuracy * 100.0))"
   ]
  },
  {
   "cell_type": "code",
   "execution_count": 58,
   "metadata": {},
   "outputs": [
    {
     "name": "stdout",
     "output_type": "stream",
     "text": [
      "Accuracy: 60.25%\n"
     ]
    }
   ],
   "source": [
    "# 2nd XGB Classifier\n",
    "# In our dataset\n",
    "# This can be a good choice\n",
    "\n",
    "model = XGBClassifier(learning_rate = 0.05, n_estimators=300, max_depth = 7)\n",
    "model.fit(x_train, y_train)\n",
    "y_pred = model.predict(x_test)\n",
    "accuracy = accuracy_score(y_test, y_pred)\n",
    "print(\"Accuracy: %.2f%%\" % (accuracy * 100.0))"
   ]
  },
  {
   "cell_type": "code",
   "execution_count": 59,
   "metadata": {},
   "outputs": [
    {
     "name": "stdout",
     "output_type": "stream",
     "text": [
      "Accuracy: 72.00%\n"
     ]
    }
   ],
   "source": [
    "# In different dataset\n",
    "# This can be a good choice\n",
    "\n",
    "y_pred = model.predict(test_maclar)\n",
    "accuracy = accuracy_score(gercek_sonuclar, y_pred)\n",
    "print(\"Accuracy: %.2f%%\" % (accuracy * 100.0))"
   ]
  },
  {
   "cell_type": "code",
   "execution_count": 60,
   "metadata": {},
   "outputs": [
    {
     "name": "stdout",
     "output_type": "stream",
     "text": [
      "[1 1 1 1 1 1 2 1 1 1 0 1 1 2 2 1 2 1 1 1 1 1 1 1 1 1 1 1 2 2 1 1 2 1 1 2 1\n",
      " 1 2 2 2 1 1 1 1 1 1 2 1 2 1 1 2 2 2 0 2 2 2 2 0 1 0 1 1 1 0 2 2 1 1 0 2 1\n",
      " 1 1 1 2 2 1 1 1 1 2 1 2 1 1 2 1 1 1 1 1 1 2 2 1 1 2]\n",
      "[1 1 1 0 0 1 2 2 1 0 2 1 1 2 1 1 0 1 0 0 1 1 1 1 1 1 2 1 2 2 1 1 0 1 1 2 1\n",
      " 1 2 2 2 2 2 1 1 1 1 2 1 2 1 2 2 1 2 0 2 2 2 2 0 0 0 0 2 2 0 2 2 1 1 1 2 1\n",
      " 2 1 2 2 1 1 1 1 1 1 1 1 1 1 2 1 1 1 1 1 1 0 0 1 1 0]\n"
     ]
    }
   ],
   "source": [
    "print(y_pred)\n",
    "gercek_sonuclar = gercek_sonuclar.to_numpy()\n",
    "print(gercek_sonuclar)"
   ]
  },
  {
   "cell_type": "code",
   "execution_count": 61,
   "metadata": {},
   "outputs": [
    {
     "name": "stdout",
     "output_type": "stream",
     "text": [
      "Accuracy: 48.82%\n"
     ]
    }
   ],
   "source": [
    "# 3rd KNeighbors Classifier\n",
    "# There is a better option\n",
    "\n",
    "model = KNeighborsClassifier()\n",
    "model.fit(x_train, y_train)\n",
    "y_pred = model.predict(x_test)\n",
    "\n",
    "accuracy = accuracy_score(y_test, y_pred)\n",
    "print(\"Accuracy: %.2f%%\" % (accuracy * 100.0))"
   ]
  },
  {
   "cell_type": "code",
   "execution_count": 62,
   "metadata": {},
   "outputs": [
    {
     "name": "stdout",
     "output_type": "stream",
     "text": [
      "Accuracy: 48.00%\n"
     ]
    }
   ],
   "source": [
    "# In different dataset\n",
    "# There is a better option\n",
    "\n",
    "y_pred = model.predict(test_maclar)\n",
    "accuracy = accuracy_score(gercek_sonuclar, y_pred)\n",
    "print(\"Accuracy: %.2f%%\" % (accuracy * 100.0))"
   ]
  },
  {
   "cell_type": "code",
   "execution_count": 63,
   "metadata": {},
   "outputs": [
    {
     "name": "stdout",
     "output_type": "stream",
     "text": [
      "Accuracy: 60.43%\n"
     ]
    }
   ],
   "source": [
    "# 4th LightGBM\n",
    "# The second best option\n",
    "\n",
    "model = ltb.LGBMClassifier()\n",
    "model.fit(x_train, y_train)\n",
    "y_pred = model.predict(x_test)\n",
    "\n",
    "accuracy = accuracy_score(y_test, y_pred)\n",
    "print(\"Accuracy: %.2f%%\" % (accuracy * 100.0))"
   ]
  },
  {
   "cell_type": "code",
   "execution_count": 64,
   "metadata": {},
   "outputs": [
    {
     "name": "stdout",
     "output_type": "stream",
     "text": [
      "Accuracy: 69.00%\n"
     ]
    }
   ],
   "source": [
    "# The second best option\n",
    "y_pred = model.predict(test_maclar)\n",
    "accuracy = accuracy_score(gercek_sonuclar, y_pred)\n",
    "print(\"Accuracy: %.2f%%\" % (accuracy * 100.0))"
   ]
  },
  {
   "cell_type": "markdown",
   "metadata": {},
   "source": [
    "# Result"
   ]
  },
  {
   "cell_type": "markdown",
   "metadata": {},
   "source": [
    "## Importance of Cleaning and Modifying Data"
   ]
  },
  {
   "cell_type": "markdown",
   "metadata": {},
   "source": [
    "**You can see in our dataset, we did a lot of cleaning and modifying process. When we did these cleaning process our dataset rows decrease to 10k but it become much more consistent. Does it actually help us to improve our accuracy? Or having much more but inconsistent data is a better option? Notice that we got over 40k rows in this dataset because we didn't do any cleaning process.**"
   ]
  },
  {
   "cell_type": "markdown",
   "metadata": {},
   "source": [
    "**Let's test that**"
   ]
  },
  {
   "cell_type": "code",
   "execution_count": 65,
   "metadata": {},
   "outputs": [],
   "source": [
    "maclar_cleaning_importance['who_win'] = np.where((maclar_cleaning_importance.home_score > maclar_cleaning_importance.away_score), '1',\n",
    "                            np.where(maclar_cleaning_importance.home_score < maclar_cleaning_importance.away_score, '2','0'))\n",
    "\n",
    "maclar_cleaning_importance = maclar_cleaning_importance.drop('home_score', axis = 1)\n",
    "maclar_cleaning_importance = maclar_cleaning_importance.drop('away_score', axis = 1)"
   ]
  },
  {
   "cell_type": "code",
   "execution_count": 66,
   "metadata": {},
   "outputs": [
    {
     "data": {
      "text/plain": [
       "date          object\n",
       "home_team     object\n",
       "away_team     object\n",
       "tournament    object\n",
       "city          object\n",
       "country       object\n",
       "neutral         bool\n",
       "who_win       object\n",
       "dtype: object"
      ]
     },
     "execution_count": 66,
     "metadata": {},
     "output_type": "execute_result"
    }
   ],
   "source": [
    "maclar_cleaning_importance.dtypes"
   ]
  },
  {
   "cell_type": "code",
   "execution_count": 67,
   "metadata": {},
   "outputs": [
    {
     "data": {
      "text/plain": [
       "date          int32\n",
       "home_team     int32\n",
       "away_team     int32\n",
       "tournament    int32\n",
       "city          int32\n",
       "country       int32\n",
       "neutral       int64\n",
       "who_win       int32\n",
       "dtype: object"
      ]
     },
     "execution_count": 67,
     "metadata": {},
     "output_type": "execute_result"
    }
   ],
   "source": [
    "labelencoder = LabelEncoder()\n",
    "# We want to change all variable types to integer\n",
    "maclar_cleaning_importance.iloc[:,0] = labelencoder.fit_transform(maclar_cleaning_importance.iloc[:,0].values)\n",
    "maclar_cleaning_importance.iloc[:,1] = labelencoder.fit_transform(maclar_cleaning_importance.iloc[:,1].values)\n",
    "maclar_cleaning_importance.iloc[:,2] = labelencoder.fit_transform(maclar_cleaning_importance.iloc[:,2].values)\n",
    "maclar_cleaning_importance.iloc[:,3] = labelencoder.fit_transform(maclar_cleaning_importance.iloc[:,3].values)\n",
    "maclar_cleaning_importance.iloc[:,4] = labelencoder.fit_transform(maclar_cleaning_importance.iloc[:,4].values)\n",
    "maclar_cleaning_importance.iloc[:,5] = labelencoder.fit_transform(maclar_cleaning_importance.iloc[:,5].values)\n",
    "maclar_cleaning_importance.iloc[:,6] = labelencoder.fit_transform(maclar_cleaning_importance.iloc[:,6].values)\n",
    "maclar_cleaning_importance.iloc[:,7] = labelencoder.fit_transform(maclar_cleaning_importance.iloc[:,7].values)\n",
    "maclar_cleaning_importance.dtypes"
   ]
  },
  {
   "cell_type": "code",
   "execution_count": 68,
   "metadata": {},
   "outputs": [],
   "source": [
    "test_maclar2 = maclar_cleaning_importance.tail(100)\n",
    "maclar_cleaning_importance = maclar_cleaning_importance[:-100]"
   ]
  },
  {
   "cell_type": "code",
   "execution_count": 69,
   "metadata": {},
   "outputs": [],
   "source": [
    "x = maclar_cleaning_importance.drop(\"who_win\", axis = 1)\n",
    "y = maclar_cleaning_importance[\"who_win\"]\n",
    "\n",
    "x_train, x_test, y_train, y_test = train_test_split(x, y, test_size = 0.2, random_state = 10)"
   ]
  },
  {
   "cell_type": "code",
   "execution_count": 70,
   "metadata": {},
   "outputs": [],
   "source": [
    "gercek_sonuclar2 = test_maclar2.who_win\n",
    "test_maclar2 = test_maclar2.drop('who_win', axis = 1)"
   ]
  },
  {
   "cell_type": "markdown",
   "metadata": {},
   "source": [
    "**Notice that we are using same thing with our original dataset to compare these two model.**"
   ]
  },
  {
   "cell_type": "code",
   "execution_count": 71,
   "metadata": {},
   "outputs": [
    {
     "name": "stdout",
     "output_type": "stream",
     "text": [
      "Accuracy: 48.35%\n"
     ]
    }
   ],
   "source": [
    "# 1st Decision Tree\n",
    "# In our dataset\n",
    "# There can be a better option\n",
    "model = DecisionTreeClassifier(random_state = 10, max_depth = 10)\n",
    "model.fit(x_train, y_train)\n",
    "y_pred = model.predict(x_test)\n",
    "\n",
    "accuracy = accuracy_score(y_test, y_pred)\n",
    "print(\"Accuracy: %.2f%%\" % (accuracy * 100.0))"
   ]
  },
  {
   "cell_type": "code",
   "execution_count": 72,
   "metadata": {},
   "outputs": [
    {
     "name": "stdout",
     "output_type": "stream",
     "text": [
      "Accuracy: 53.00%\n"
     ]
    }
   ],
   "source": [
    "# In different dataset\n",
    "y_pred = model.predict(test_maclar2)\n",
    "accuracy = accuracy_score(gercek_sonuclar2, y_pred)\n",
    "print(\"Accuracy: %.2f%%\" % (accuracy * 100.0))"
   ]
  },
  {
   "cell_type": "markdown",
   "metadata": {},
   "source": [
    "**Important! You can clearly see that we use same techniques with our original dataset. Even we have  4 times bigger data in this data set our accuracy score decrease about 6 percent in training test and 5 percent in our test set.**"
   ]
  },
  {
   "cell_type": "code",
   "execution_count": 73,
   "metadata": {},
   "outputs": [
    {
     "name": "stdout",
     "output_type": "stream",
     "text": [
      "Accuracy: 54.57%\n"
     ]
    }
   ],
   "source": [
    "# 2nd XGB Classifier\n",
    "# In our dataset\n",
    "# This can be a good choice\n",
    "model = XGBClassifier(learning_rate = 0.05, n_estimators=300, max_depth = 7)\n",
    "model.fit(x_train, y_train)\n",
    "y_pred = model.predict(x_test)\n",
    "accuracy = accuracy_score(y_test, y_pred)\n",
    "print(\"Accuracy: %.2f%%\" % (accuracy * 100.0))"
   ]
  },
  {
   "cell_type": "code",
   "execution_count": 74,
   "metadata": {},
   "outputs": [
    {
     "name": "stdout",
     "output_type": "stream",
     "text": [
      "Accuracy: 59.00%\n"
     ]
    }
   ],
   "source": [
    "# In different dataset\n",
    "y_pred = model.predict(test_maclar2)\n",
    "accuracy = accuracy_score(gercek_sonuclar2, y_pred)\n",
    "print(\"Accuracy: %.2f%%\" % (accuracy * 100.0))"
   ]
  },
  {
   "cell_type": "markdown",
   "metadata": {},
   "source": [
    "**Very Important! Now in XGBClassifier there is a huge different between our original dataset and this dataset. You can see that training dataset accuracy decrease about 6 percent again but the real surprise happen in our test dataset, it's accuracy score decrease 13 percent.**"
   ]
  },
  {
   "cell_type": "code",
   "execution_count": 75,
   "metadata": {},
   "outputs": [
    {
     "name": "stdout",
     "output_type": "stream",
     "text": [
      "Accuracy: 40.84%\n"
     ]
    }
   ],
   "source": [
    "# 3rd KNeighbors Classifier\n",
    "# There is a better option\n",
    "model = KNeighborsClassifier()\n",
    "model.fit(x_train, y_train)\n",
    "y_pred = model.predict(x_test)\n",
    "\n",
    "accuracy = accuracy_score(y_test, y_pred)\n",
    "print(\"Accuracy: %.2f%%\" % (accuracy * 100.0))"
   ]
  },
  {
   "cell_type": "code",
   "execution_count": 76,
   "metadata": {},
   "outputs": [
    {
     "name": "stdout",
     "output_type": "stream",
     "text": [
      "Accuracy: 41.00%\n"
     ]
    }
   ],
   "source": [
    "# In different dataset\n",
    "y_pred = model.predict(test_maclar2)\n",
    "accuracy = accuracy_score(gercek_sonuclar2, y_pred)\n",
    "print(\"Accuracy: %.2f%%\" % (accuracy * 100.0))"
   ]
  },
  {
   "cell_type": "markdown",
   "metadata": {},
   "source": [
    "**In KNeighborsClassifier training dataset accuracy decrease about 8 percent and test accuracy decrease 7 percent.**"
   ]
  },
  {
   "cell_type": "code",
   "execution_count": 77,
   "metadata": {},
   "outputs": [
    {
     "name": "stdout",
     "output_type": "stream",
     "text": [
      "Accuracy: 53.54%\n"
     ]
    }
   ],
   "source": [
    "# 4th LightGBM\n",
    "# The second best option\n",
    "model = ltb.LGBMClassifier()\n",
    "model.fit(x_train, y_train)\n",
    "y_pred = model.predict(x_test)\n",
    "\n",
    "accuracy = accuracy_score(y_test, y_pred)\n",
    "print(\"Accuracy: %.2f%%\" % (accuracy * 100.0))"
   ]
  },
  {
   "cell_type": "code",
   "execution_count": 78,
   "metadata": {},
   "outputs": [
    {
     "name": "stdout",
     "output_type": "stream",
     "text": [
      "Accuracy: 63.00%\n"
     ]
    }
   ],
   "source": [
    "# In different dataset\n",
    "y_pred = model.predict(test_maclar2)\n",
    "accuracy = accuracy_score(gercek_sonuclar2, y_pred)\n",
    "print(\"Accuracy: %.2f%%\" % (accuracy * 100.0))"
   ]
  },
  {
   "cell_type": "markdown",
   "metadata": {},
   "source": [
    "**In LightGBM training dataset accuracy decrease about 7 percent and test accuracy decrease 6 percent.**"
   ]
  },
  {
   "cell_type": "markdown",
   "metadata": {},
   "source": [
    "## Final Choice"
   ]
  },
  {
   "cell_type": "markdown",
   "metadata": {},
   "source": [
    "**Best option is XGB Classifier and we think that we did our best. Because there are several different variables can effect the result of a football match.**\n",
    "\n",
    "**For example players, coach style (offensive, defensive etc.), motivation etc.**\n",
    "\n",
    "**At the end we have a model that can able to predict the result of a football match with a %72 accuracy score.**\n",
    "\n",
    "**We understand that having a large data is important factor but having a consistent data is much more important.**"
   ]
  }
 ],
 "metadata": {
  "kernelspec": {
   "display_name": "Python 3",
   "language": "python",
   "name": "python3"
  },
  "language_info": {
   "codemirror_mode": {
    "name": "ipython",
    "version": 3
   },
   "file_extension": ".py",
   "mimetype": "text/x-python",
   "name": "python",
   "nbconvert_exporter": "python",
   "pygments_lexer": "ipython3",
   "version": "3.7.3"
  }
 },
 "nbformat": 4,
 "nbformat_minor": 4
}
